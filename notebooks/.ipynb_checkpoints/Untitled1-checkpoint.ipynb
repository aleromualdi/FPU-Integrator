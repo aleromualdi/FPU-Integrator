{
 "cells": [
  {
   "cell_type": "code",
   "execution_count": 1,
   "id": "553da171",
   "metadata": {},
   "outputs": [],
   "source": [
    "import sys\n",
    "import numpy as np\n",
    "import matplotlib.pyplot as plt\n",
    "\n",
    "\"\"\"\n",
    "System inputs\n",
    "\"\"\"\n",
    "\n",
    "NUM_ATOMS = 32  # number of particles equals to N in FPUT equations\n",
    "T_MAX = 40000   # maximum time of simulation\n",
    "INTEGRATION_TIME_STEP = 0.6\n",
    "ALPHA = 1.  # non-linearity coefficient (quadratic term), alpha must be <= 0.25\n",
    "BETA = 2.  # non-linearity coefficient (cubic term), beta can be 0.3, 1, 3 etc.\n",
    "\n",
    "# Initial mode inputs\n",
    "INITIAL_MODE_NUMBER = 1  # = 1, ...NUM_ATOMS\n",
    "INITIAL_MODE_AMPLITUDE = 1.\n",
    "NUM_MODES = 3  # number of modes to be observe"
   ]
  },
  {
   "cell_type": "code",
   "execution_count": 2,
   "id": "4a27b3ea",
   "metadata": {},
   "outputs": [
    {
     "name": "stdout",
     "output_type": "stream",
     "text": [
      "initializing q in the mode  1 :\n",
      "[0.02340118 0.04659044 0.06935776 0.09149697 0.11280757 0.13309657\n",
      " 0.15218022 0.16988571 0.18605268 0.20053474 0.21320072 0.22393592\n",
      " 0.23264312 0.23924347 0.24367719 0.24590414 0.24590414 0.24367719\n",
      " 0.23924347 0.23264312 0.22393592 0.21320072 0.20053474 0.18605268\n",
      " 0.16988571 0.15218022 0.13309657 0.11280757 0.09149697 0.06935776\n",
      " 0.04659044 0.02340118]\n"
     ]
    }
   ],
   "source": [
    "\n",
    "# mode energies to be plotted as function of time\n",
    "# mode_energies = np.zeros(shape=(NUM_MODES,))\n",
    "\n",
    "\n",
    "def initialise_mode(q, num_atoms, mode_number, initial_mode_amplitude):\n",
    "    \"\"\"implements the formula of mode 'k' \"\"\"\n",
    "    noAtomsPlus = num_atoms + 1\n",
    "    coef = np.sqrt(2./noAtomsPlus)\n",
    "    for i in range(0, num_atoms):\n",
    "        const = (i + 1) * mode_number * np.pi  # formula says i * k * pi but array q starts with index 0\n",
    "        const1 = const / noAtomsPlus\n",
    "        q[i] = initial_mode_amplitude * coef * np.sin(const1)\n",
    "    return q\n",
    "\n",
    "# initialize q in the mode k\n",
    "# inizialitaion of displacement and velocities (conjugate moments)\n",
    "q = np.zeros(shape=(NUM_ATOMS,))  # q = 0\n",
    "p = np.zeros(shape=(NUM_ATOMS,))  # p = 0\n",
    "\n",
    "q = initialise_mode(q, NUM_ATOMS, INITIAL_MODE_NUMBER, INITIAL_MODE_AMPLITUDE)\n",
    "\n",
    "print(\"initializing q in the mode \", INITIAL_MODE_NUMBER, \":\")\n",
    "print(q)\n",
    "\n",
    "\n",
    "def force(q, num_atoms, alpha, beta):\n",
    "    \"\"\"gives linear (Hook's law) plus nonlinear (quadratic, cubic) terms dictated by alpha and beta, respectively.\"\"\"\n",
    "    q_l, q_r = 0, 0\n",
    "    f = np.zeros(shape=(num_atoms,))\n",
    "    n_f = num_atoms - 1\n",
    "    n_f_minus = n_f - 1\n",
    "    f[0]  =  q[1] + q_l - 2. * q[0]  + alpha * (q[1] - q[0]) **2 - alpha * (q[0] - q_l) **2 + beta * (q[1] - q[0]) **3 - beta * (q[0] - q_l) **3\n",
    "    f[n_f] = q_r + q[n_f_minus] - 2. * q[n_f]  + alpha * (q_r - q[n_f]) **2 - alpha * (q[n_f] - q[n_f_minus]) **2 + beta * (q_r - q[n_f]) **3 - beta * (q[n_f] - q[n_f_minus]) **3\n",
    "    for i in range(1, n_f):\n",
    "        f[i] = q[i + 1] + q[i -1] - 2. * q[i]  + alpha * (q[i + 1] - q[i]) **2 - alpha * (q[i] - q[i - 1]) **2 + beta * (q[i + 1] - q[i]) **3 - beta * (q[i] - q[i - 1]) **3\n",
    "    return f\n"
   ]
  },
  {
   "cell_type": "code",
   "execution_count": 3,
   "id": "f72e8e02",
   "metadata": {},
   "outputs": [
    {
     "data": {
      "text/plain": [
       "[<matplotlib.lines.Line2D at 0x7fbe187a5670>]"
      ]
     },
     "execution_count": 3,
     "metadata": {},
     "output_type": "execute_result"
    },
    {
     "data": {
      "image/png": "[encoded data removed]",
      "text/plain": [
       "<Figure size 432x288 with 1 Axes>"
      ]
     },
     "metadata": {
      "needs_background": "light"
     },
     "output_type": "display_data"
    }
   ],
   "source": [
    "plt.plot(force(q, NUM_ATOMS, ALPHA, BETA))"
   ]
  },
  {
   "cell_type": "code",
   "execution_count": 4,
   "id": "6639d027",
   "metadata": {},
   "outputs": [],
   "source": [
    "\n",
    "def calculate_mode_energy(q, p, num_atoms, mode_number):\n",
    "    num_atoms_plus = num_atoms + 1\n",
    "    coef = np.sqrt(2. / num_atoms_plus)\n",
    "    qList = []\n",
    "    pList = []\n",
    "    for j in range(0, num_atoms):\n",
    "        arg = (j * mode_number * np.pi) / num_atoms_plus\n",
    "        sinArg = np.sin(arg)\n",
    "        term = sinArg * q[j]\n",
    "        term1 = coef * term\n",
    "        qList.append(term1)\n",
    "    qArr = np.array(qList)\n",
    "    q_sum = np.sum(qArr)\n",
    "    qBigSq = 0.5 * q_sum **2\n",
    "    for j in range(0, num_atoms):\n",
    "        arg = (j * mode_number * np.pi) / num_atoms_plus\n",
    "        sinArg = np.sin(arg)\n",
    "        term = sinArg * p[j]\n",
    "        term1 = coef * term\n",
    "        pList.append(term1)\n",
    "    pArr = np.array(pList)\n",
    "    p_sum = np.sum(pArr)\n",
    "    pBigSq = 0.5 * p_sum **2\n",
    "    return pBigSq  + qBigSq\n",
    "\n"
   ]
  },
  {
   "cell_type": "code",
   "execution_count": 14,
   "id": "4efc29ea",
   "metadata": {},
   "outputs": [
    {
     "name": "stdout",
     "output_type": "stream",
     "text": [
      "iterating over time steps and integrating...\n"
     ]
    }
   ],
   "source": [
    "stepList = []\n",
    "mode_energies = {}\n",
    "for mode_num in range(1, NUM_MODES+1):\n",
    "    mode_energies[\"mode_\"+str(mode_num)] = []\n",
    "\n",
    "print(\"iterating over time steps and integrating...\")\n",
    "\n",
    "for tstep in range(1, T_MAX + 1):\n",
    "    #print 'time-step', tstep\n",
    "    # velocity Verlet, do not change the order of the statements\n",
    "    p_half = p + 0.5 * INTEGRATION_TIME_STEP * force(q, NUM_ATOMS, ALPHA, BETA)\n",
    "    q = q + INTEGRATION_TIME_STEP * p_half    # q at tstep\n",
    "    p = p_half + 0.5 * INTEGRATION_TIME_STEP * force(q, NUM_ATOMS, ALPHA, BETA)\n",
    "\n",
    "    stepList.append(tstep)\n",
    "\n",
    "    for mode_num in range(1, NUM_MODES+1):\n",
    "        mode_energy = calculate_mode_energy(q, p, NUM_ATOMS, mode_num)\n",
    "        mode_energies[\"mode_\"+str(mode_num)].append(mode_energy)\n",
    "\n",
    "t = np.array(stepList)"
   ]
  },
  {
   "cell_type": "code",
   "execution_count": 15,
   "id": "507a78e7",
   "metadata": {},
   "outputs": [
    {
     "data": {
      "text/plain": [
       "dict_keys(['mode_1', 'mode_2', 'mode_3'])"
      ]
     },
     "execution_count": 15,
     "metadata": {},
     "output_type": "execute_result"
    }
   ],
   "source": [
    "mode_energies.keys()"
   ]
  },
  {
   "cell_type": "code",
   "execution_count": null,
   "id": "1f08cda6",
   "metadata": {},
   "outputs": [],
   "source": []
  },
  {
   "cell_type": "code",
   "execution_count": 16,
   "id": "b00d49f7",
   "metadata": {},
   "outputs": [
    {
     "data": {
      "image/png": "[encoded data removed]",
      "text/plain": [
       "<Figure size 432x288 with 1 Axes>"
      ]
     },
     "metadata": {
      "needs_background": "light"
     },
     "output_type": "display_data"
    }
   ],
   "source": [
    "plt.plot(t, mode_energies[\"mode_1\"],'k-', linewidth=1.5, label='Mode 1')\n",
    "plt.plot(t, mode_energies[\"mode_2\"],'g-', linewidth=1.5, label='Mode 2')\n",
    "plt.plot(t, mode_energies[\"mode_3\"],'r-', linewidth=1.5, label='Mode 3')\n",
    "# plt.plot(t, e4,'m-', linewidth=1.5, label='Mode 3')\n",
    "# plt.plot(t, e5,'b-', linewidth=1.5, label='Mode 5')\n",
    "\n",
    "plt.xlabel('$t$ ')\n",
    "plt.ylabel('Energy ')\n",
    "\n",
    "#plt.ylim(0., 50)\n",
    "plt.xlim(0., T_MAX)\n",
    "legend = plt.legend(loc='upper right', shadow=True, fontsize='x-small')\n",
    "#plt.savefig('outputs/fput1.pdf')\n",
    "plt.show()\n",
    "\n",
    "#sys.exit()"
   ]
  },
  {
   "cell_type": "code",
   "execution_count": null,
   "id": "4898397d",
   "metadata": {},
   "outputs": [],
   "source": []
  },
  {
   "cell_type": "code",
   "execution_count": null,
   "id": "81b84a9c",
   "metadata": {},
   "outputs": [],
   "source": []
  },
  {
   "cell_type": "code",
   "execution_count": null,
   "id": "79e1b104",
   "metadata": {},
   "outputs": [],
   "source": []
  }
 ],
 "metadata": {
  "kernelspec": {
   "display_name": "Python 3 (ipykernel)",
   "language": "python",
   "name": "python3"
  },
  "language_info": {
   "codemirror_mode": {
    "name": "ipython",
    "version": 3
   },
   "file_extension": ".py",
   "mimetype": "text/x-python",
   "name": "python",
   "nbconvert_exporter": "python",
   "pygments_lexer": "ipython3",
   "version": "3.9.12"
  }
 },
 "nbformat": 4,
 "nbformat_minor": 5
}
