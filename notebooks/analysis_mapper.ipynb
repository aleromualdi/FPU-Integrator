{
 "cells": [
  {
   "cell_type": "code",
   "execution_count": 1,
   "id": "2d2ba209",
   "metadata": {},
   "outputs": [],
   "source": [
    "# for rendering Latex\n",
    "\n",
    "import matplotlib.pyplot as plt\n",
    "\n",
    "plt.rcParams['text.usetex'] = True\n",
    "\n",
    "# Using seaborn's style\n",
    "#plt.style.use('science')\n",
    "#plt.style.use('seaborn-colorblind')\n",
    "plt.style.use('seaborn-dark-palette')\n",
    "#plt.style.use('seaborn-deep')\n",
    "\n",
    "\n",
    "width = 345\n",
    "\n",
    "tex_fonts = {\n",
    "    # Use LaTeX to write all text\n",
    "    \"text.usetex\": True,\n",
    "    \"font.family\": \"serif\",\n",
    "    # Use 10pt font in plots, to match 10pt font in document\n",
    "    \"axes.labelsize\": 10,\n",
    "    \"font.size\": 10,\n",
    "    # Make the legend/label fonts a little smaller\n",
    "    \"legend.fontsize\": 8,\n",
    "    \"xtick.labelsize\": 8,\n",
    "    \"ytick.labelsize\": 8\n",
    "}\n",
    "\n",
    "plt.rcParams.update(tex_fonts)"
   ]
  },
  {
   "cell_type": "code",
   "execution_count": 2,
   "id": "f720dfcf",
   "metadata": {},
   "outputs": [
    {
     "name": "stdout",
     "output_type": "stream",
     "text": [
      "30\n",
      "[0.1 0.2 0.3 0.4 0.5 0.6 0.7 0.8 0.9 1.  1.1 1.2 1.3 1.4 1.5 1.6 1.7 1.8\n",
      " 1.9 2.  2.1 2.2 2.3 2.4 2.5 2.6 2.7 2.8 2.9 3. ]\n"
     ]
    }
   ],
   "source": [
    "import numpy as np\n",
    "import sklearn\n",
    "import matplotlib.pyplot as plt\n",
    "\n",
    "import os\n",
    "from dataclasses import dataclass\n",
    "\n",
    "DATA_DIR = '../data'\n",
    "BETA_VALUES = np.sort(\n",
    "    [float(x.split('fermi_')[-1]) for x in os.listdir(DATA_DIR) if x.startswith('fermi')])\n",
    "n_points = len(BETA_VALUES)\n",
    "\n",
    "\n",
    "@dataclass\n",
    "class Data:\n",
    "    data_matrix: np.array\n",
    "    energy_matrix: np.array\n",
    "    dst: np.array\n",
    "    time: np.array\n",
    "\n",
    "\n",
    "def load_data(beta):\n",
    "    data_path = os.path.join(DATA_DIR, f'fermi_{beta}')\n",
    "    data_matrix = np.load(os.path.join(data_path, 'dataMatrix.npy'))\n",
    "    energy_matrix = np.load(os.path.join(data_path, 'energyMatrix.npy'))\n",
    "    dst = np.load(os.path.join(data_path, 'dst.npy'))\n",
    "    time = np.load(os.path.join(data_path, 'time.npy'))\n",
    "    return Data(data_matrix=data_matrix, energy_matrix=energy_matrix, dst=dst, time=time)\n",
    "\n",
    "print(n_points)\n",
    "print(BETA_VALUES)"
   ]
  },
  {
   "cell_type": "code",
   "execution_count": 4,
   "id": "7c0091de",
   "metadata": {},
   "outputs": [
    {
     "name": "stdout",
     "output_type": "stream",
     "text": [
      "(800000, 64) (300000, 64) (37500, 64)\n"
     ]
    },
    {
     "data": {
      "image/png": "[encoded data removed]",
      "text/plain": [
       "<Figure size 1600x300 with 4 Axes>"
      ]
     },
     "metadata": {},
     "output_type": "display_data"
    }
   ],
   "source": [
    "# LOAD DATA\n",
    "fig, (ax1, ax2, ax3, ax4) = plt.subplots(1, 4, figsize=(16, 3))\n",
    "\n",
    "data = load_data(0.1)\n",
    "X = data.data_matrix\n",
    "q, p = X[:, 0], X[:, 32]\n",
    "\n",
    "n_portion = 300000\n",
    "\n",
    "ax1.scatter(q, p)\n",
    "\n",
    "ax2.plot(data.energy_matrix[:,0][:n_portion], linewidth=1.5, label=\"Mode 1\") \n",
    "ax2.plot(data.energy_matrix[:,2][:n_portion], linewidth=1.5, label=\"Mode 1\")\n",
    "ax2.plot(data.energy_matrix[:,4][:n_portion], linewidth=1.5, label=\"Mode 1\")\n",
    "\n",
    "# take portion of data\n",
    "X_portion = data.data_matrix[:n_portion]\n",
    "q_portion, p_portion = X_portion[:, 0], X_portion[:, 32]\n",
    "\n",
    "ax3.scatter(q_portion, p_portion)\n",
    "\n",
    "# subsample data\n",
    "X_subsample = X_portion[0::8]\n",
    "q_subsample, p_subsample = X_subsample[:, 0], X_subsample[:, 32]\n",
    "\n",
    "ax4.scatter(q_subsample, p_subsample)\n",
    "\n",
    "# # sample data\n",
    "# np.random.seed(1235)\n",
    "\n",
    "# idxs = np.random.choice(X_portion.shape[0], 2000)\n",
    "# X_sample = X_portion[idxs]\n",
    "# q_sample, p_sample = X_sample[:, 0], X_sample[:, 32]\n",
    "\n",
    "# ax4.scatter(q_sample, p_sample)\n",
    "\n",
    "print(X.shape, X_portion.shape, X_subsample.shape)"
   ]
  },
  {
   "cell_type": "code",
   "execution_count": 6,
   "id": "e9596801",
   "metadata": {},
   "outputs": [],
   "source": [
    "# COMPUTE MAPPER \n",
    "\n",
    "import kmapper as km\n",
    "from kmapper.plotlyviz import plotlyviz\n",
    "from kmapper.plotlyviz import *\n",
    "from sklearn.decomposition import TruncatedSVD\n",
    "from sklearn.manifold import TSNE # nonlinear\n",
    "\n",
    "mapper = km.KeplerMapper(verbose=0)\n",
    "\n",
    "lens = mapper.fit_transform(X_subsample,\n",
    "    projection=[\n",
    "        # umap.UMAP(n_components=1, random_state=1),\n",
    "        TruncatedSVD(n_components=1, random_state=123),\n",
    "        # TSNE(n_components=1, learning_rate='auto', init='random', perplexity=3)\n",
    "        # PCA(n_components=1)\n",
    "        ]\n",
    "        )\n",
    "\n",
    "# # Define the simplicial complex\n",
    "# graph = mapper.map(\n",
    "#     lens,\n",
    "#     X_subsample,\n",
    "#     cover=km.Cover(n_cubes=13, perc_overlap=0.4),\n",
    "#     clusterer=sklearn.cluster.AgglomerativeClustering(n_clusters=2, linkage='single'),\n",
    "#     # clusterer=sklearn.cluster.DBSCAN(eps=0.1, min_samples=20),\n",
    "#     # clusterer=sklearn.cluster.KMeans(n_clusters=2, random_state=123)\n",
    "#     )\n",
    "\n",
    "# # Visualization\n",
    "# mapper.visualize(graph, path_html=\"output/fpu.html\");\n",
    "# plotlyviz(graph, graph_data=False)"
   ]
  },
  {
   "cell_type": "code",
   "execution_count": null,
   "id": "4db6e8d0",
   "metadata": {},
   "outputs": [],
   "source": []
  }
 ],
 "metadata": {
  "kernelspec": {
   "display_name": "fpuvenv",
   "language": "python",
   "name": "python3"
  },
  "language_info": {
   "codemirror_mode": {
    "name": "ipython",
    "version": 3
   },
   "file_extension": ".py",
   "mimetype": "text/x-python",
   "name": "python",
   "nbconvert_exporter": "python",
   "pygments_lexer": "ipython3",
   "version": "3.9.17"
  },
  "vscode": {
   "interpreter": {
    "hash": "82b030bb993514921c0e6101fdf960482a557c8a877f19bd39fe0a80f5dcf631"
   }
  }
 },
 "nbformat": 4,
 "nbformat_minor": 5
}
