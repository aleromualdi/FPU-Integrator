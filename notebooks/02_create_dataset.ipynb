{
 "cells": [
  {
   "cell_type": "code",
   "execution_count": 46,
   "id": "fd7fe821",
   "metadata": {},
   "outputs": [
    {
     "name": "stdout",
     "output_type": "stream",
     "text": [
      "The autoreload extension is already loaded. To reload it, use:\n",
      "  %reload_ext autoreload\n"
     ]
    }
   ],
   "source": [
    "%load_ext autoreload\n",
    "%autoreload 2"
   ]
  },
  {
   "cell_type": "markdown",
   "id": "38a60666",
   "metadata": {},
   "source": []
  },
  {
   "cell_type": "code",
   "execution_count": 47,
   "id": "37c4b2fa",
   "metadata": {},
   "outputs": [],
   "source": [
    "# cd ../fput"
   ]
  },
  {
   "cell_type": "code",
   "execution_count": 48,
   "id": "ffc224be",
   "metadata": {},
   "outputs": [],
   "source": [
    "import numpy as np\n",
    "import pandas as pd\n",
    "from tqdm import tqdm\n",
    "import pickle\n",
    "import matplotlib.pyplot as plt\n",
    "from numpy import linalg as LA\n",
    "from sklearn.decomposition import PCA\n",
    "from sklearn.preprocessing import StandardScaler\n",
    "from fput.integrator import FPUT_Integrator\n",
    "from numpy import linalg as LA\n",
    "from fput.utils import (\n",
    "    plot_mode_energies,\n",
    "    create_input_data_vector,\n",
    "    compute_explained_ratio,\n",
    "    plot_consecutive_distances\n",
    ")"
   ]
  },
  {
   "cell_type": "markdown",
   "id": "dbdcafcf",
   "metadata": {},
   "source": [
    "# System inputs"
   ]
  },
  {
   "cell_type": "code",
   "execution_count": 49,
   "id": "1ddcd0c2",
   "metadata": {},
   "outputs": [],
   "source": [
    "NUM_ATOMS = 32  # number of particles equals to N in FPUT equations\n",
    "T_MAX = 20000   # maximum time of simulation\n",
    "INTEGRATION_TIME_STEP = 0.05\n",
    "INITIAL_MODE_NUMBER = 1\n",
    "NUM_MODES = 3  # number of modes to be observed\n",
    "INITIAL_MODE_AMPLITUDE = 10"
   ]
  },
  {
   "cell_type": "markdown",
   "id": "5ee4bf22",
   "metadata": {},
   "source": [
    "# Compute PCs vs initial energies"
   ]
  },
  {
   "cell_type": "markdown",
   "id": "3bbce310",
   "metadata": {},
   "source": [
    "Here we compute the principal components, varyin the initial energy. Varying the initial energy from low to high, we expect phase transition between non-ergotic to ergotic. Therefore we ideally observe the PCs to have higher value to low component for low initial energy (ergotic) and more distributed values for high high energy (ergocit)"
   ]
  },
  {
   "cell_type": "code",
   "execution_count": 4,
   "id": "0d253e8c",
   "metadata": {
    "scrolled": true
   },
   "outputs": [
    {
     "name": "stdout",
     "output_type": "stream",
     "text": [
      "processing beta: 0.1\n"
     ]
    },
    {
     "name": "stderr",
     "output_type": "stream",
     "text": [
      "100%|██████████| 1199999/1199999 [05:06<00:00, 3918.20it/s]\n"
     ]
    },
    {
     "name": "stdout",
     "output_type": "stream",
     "text": [
      "processing beta: 0.2\n"
     ]
    },
    {
     "name": "stderr",
     "output_type": "stream",
     "text": [
      "100%|██████████| 1199999/1199999 [05:07<00:00, 3900.28it/s]\n"
     ]
    },
    {
     "name": "stdout",
     "output_type": "stream",
     "text": [
      "processing beta: 0.30000000000000004\n"
     ]
    },
    {
     "name": "stderr",
     "output_type": "stream",
     "text": [
      "100%|██████████| 1199999/1199999 [05:07<00:00, 3907.19it/s]\n"
     ]
    },
    {
     "name": "stdout",
     "output_type": "stream",
     "text": [
      "processing beta: 0.4\n"
     ]
    },
    {
     "name": "stderr",
     "output_type": "stream",
     "text": [
      "100%|██████████| 1199999/1199999 [05:07<00:00, 3903.02it/s]\n"
     ]
    },
    {
     "name": "stdout",
     "output_type": "stream",
     "text": [
      "processing beta: 0.5\n"
     ]
    },
    {
     "name": "stderr",
     "output_type": "stream",
     "text": [
      "100%|██████████| 1199999/1199999 [05:05<00:00, 3931.07it/s]\n"
     ]
    },
    {
     "name": "stdout",
     "output_type": "stream",
     "text": [
      "processing beta: 0.6\n"
     ]
    },
    {
     "name": "stderr",
     "output_type": "stream",
     "text": [
      "100%|██████████| 1199999/1199999 [05:12<00:00, 3836.40it/s]\n"
     ]
    },
    {
     "name": "stdout",
     "output_type": "stream",
     "text": [
      "processing beta: 0.7000000000000001\n"
     ]
    },
    {
     "name": "stderr",
     "output_type": "stream",
     "text": [
      "100%|██████████| 1199999/1199999 [05:14<00:00, 3813.21it/s]\n"
     ]
    },
    {
     "name": "stdout",
     "output_type": "stream",
     "text": [
      "processing beta: 0.8\n"
     ]
    },
    {
     "name": "stderr",
     "output_type": "stream",
     "text": [
      "100%|██████████| 1199999/1199999 [05:30<00:00, 3631.55it/s]\n"
     ]
    },
    {
     "name": "stdout",
     "output_type": "stream",
     "text": [
      "processing beta: 0.9\n"
     ]
    },
    {
     "name": "stderr",
     "output_type": "stream",
     "text": [
      "100%|██████████| 1199999/1199999 [05:10<00:00, 3864.01it/s]\n"
     ]
    },
    {
     "name": "stdout",
     "output_type": "stream",
     "text": [
      "processing beta: 1.0\n"
     ]
    },
    {
     "name": "stderr",
     "output_type": "stream",
     "text": [
      "100%|██████████| 1199999/1199999 [05:12<00:00, 3839.64it/s]\n"
     ]
    },
    {
     "name": "stdout",
     "output_type": "stream",
     "text": [
      "processing beta: 1.1\n"
     ]
    },
    {
     "name": "stderr",
     "output_type": "stream",
     "text": [
      "100%|██████████| 1199999/1199999 [05:11<00:00, 3853.21it/s]\n"
     ]
    },
    {
     "name": "stdout",
     "output_type": "stream",
     "text": [
      "processing beta: 1.2000000000000002\n"
     ]
    },
    {
     "name": "stderr",
     "output_type": "stream",
     "text": [
      "100%|██████████| 1199999/1199999 [05:06<00:00, 3912.25it/s]\n"
     ]
    },
    {
     "name": "stdout",
     "output_type": "stream",
     "text": [
      "processing beta: 1.3000000000000003\n"
     ]
    },
    {
     "name": "stderr",
     "output_type": "stream",
     "text": [
      "100%|██████████| 1199999/1199999 [05:05<00:00, 3927.65it/s]\n"
     ]
    },
    {
     "name": "stdout",
     "output_type": "stream",
     "text": [
      "processing beta: 1.4000000000000001\n"
     ]
    },
    {
     "name": "stderr",
     "output_type": "stream",
     "text": [
      "100%|██████████| 1199999/1199999 [05:10<00:00, 3861.37it/s]\n"
     ]
    },
    {
     "name": "stdout",
     "output_type": "stream",
     "text": [
      "processing beta: 1.5000000000000002\n"
     ]
    },
    {
     "name": "stderr",
     "output_type": "stream",
     "text": [
      "100%|██████████| 1199999/1199999 [05:11<00:00, 3855.30it/s]\n"
     ]
    },
    {
     "name": "stdout",
     "output_type": "stream",
     "text": [
      "processing beta: 1.6\n"
     ]
    },
    {
     "name": "stderr",
     "output_type": "stream",
     "text": [
      "100%|██████████| 1199999/1199999 [05:25<00:00, 3690.90it/s]\n"
     ]
    },
    {
     "name": "stdout",
     "output_type": "stream",
     "text": [
      "processing beta: 1.7000000000000002\n"
     ]
    },
    {
     "name": "stderr",
     "output_type": "stream",
     "text": [
      "100%|██████████| 1199999/1199999 [05:20<00:00, 3743.55it/s]\n"
     ]
    },
    {
     "name": "stdout",
     "output_type": "stream",
     "text": [
      "processing beta: 1.8000000000000003\n"
     ]
    },
    {
     "name": "stderr",
     "output_type": "stream",
     "text": [
      "100%|██████████| 1199999/1199999 [05:28<00:00, 3647.53it/s]\n"
     ]
    },
    {
     "name": "stdout",
     "output_type": "stream",
     "text": [
      "processing beta: 1.9000000000000001\n"
     ]
    },
    {
     "name": "stderr",
     "output_type": "stream",
     "text": [
      "100%|██████████| 1199999/1199999 [05:25<00:00, 3690.94it/s]\n"
     ]
    },
    {
     "name": "stdout",
     "output_type": "stream",
     "text": [
      "processing beta: 2.0\n"
     ]
    },
    {
     "name": "stderr",
     "output_type": "stream",
     "text": [
      "100%|██████████| 1199999/1199999 [05:16<00:00, 3789.18it/s]\n"
     ]
    },
    {
     "name": "stdout",
     "output_type": "stream",
     "text": [
      "processing beta: 2.1\n"
     ]
    },
    {
     "name": "stderr",
     "output_type": "stream",
     "text": [
      "100%|██████████| 1199999/1199999 [05:19<00:00, 3759.78it/s]\n"
     ]
    },
    {
     "name": "stdout",
     "output_type": "stream",
     "text": [
      "processing beta: 2.2\n"
     ]
    },
    {
     "name": "stderr",
     "output_type": "stream",
     "text": [
      "100%|██████████| 1199999/1199999 [05:42<00:00, 3499.73it/s]\n"
     ]
    },
    {
     "name": "stdout",
     "output_type": "stream",
     "text": [
      "processing beta: 2.3000000000000003\n"
     ]
    },
    {
     "name": "stderr",
     "output_type": "stream",
     "text": [
      "100%|██████████| 1199999/1199999 [05:18<00:00, 3762.08it/s]\n"
     ]
    },
    {
     "name": "stdout",
     "output_type": "stream",
     "text": [
      "processing beta: 2.4000000000000004\n"
     ]
    },
    {
     "name": "stderr",
     "output_type": "stream",
     "text": [
      "100%|██████████| 1199999/1199999 [05:17<00:00, 3783.41it/s]\n"
     ]
    },
    {
     "name": "stdout",
     "output_type": "stream",
     "text": [
      "processing beta: 2.5000000000000004\n"
     ]
    },
    {
     "name": "stderr",
     "output_type": "stream",
     "text": [
      "100%|██████████| 1199999/1199999 [05:15<00:00, 3801.03it/s]\n"
     ]
    },
    {
     "name": "stdout",
     "output_type": "stream",
     "text": [
      "processing beta: 2.6\n"
     ]
    },
    {
     "name": "stderr",
     "output_type": "stream",
     "text": [
      "100%|██████████| 1199999/1199999 [05:11<00:00, 3855.89it/s]\n"
     ]
    },
    {
     "name": "stdout",
     "output_type": "stream",
     "text": [
      "processing beta: 2.7\n"
     ]
    },
    {
     "name": "stderr",
     "output_type": "stream",
     "text": [
      "100%|██████████| 1199999/1199999 [05:13<00:00, 3830.45it/s]\n"
     ]
    },
    {
     "name": "stdout",
     "output_type": "stream",
     "text": [
      "processing beta: 2.8000000000000003\n"
     ]
    },
    {
     "name": "stderr",
     "output_type": "stream",
     "text": [
      "100%|██████████| 1199999/1199999 [05:06<00:00, 3918.52it/s]\n"
     ]
    },
    {
     "name": "stdout",
     "output_type": "stream",
     "text": [
      "processing beta: 2.9000000000000004\n"
     ]
    },
    {
     "name": "stderr",
     "output_type": "stream",
     "text": [
      "100%|██████████| 1199999/1199999 [05:05<00:00, 3924.30it/s]\n"
     ]
    }
   ],
   "source": [
    "import pickle\n",
    "    \n",
    "beta_range = np.arange(0.1, 3.0, 0.1, dtype=float)\n",
    "\n",
    "data_dict = dict()\n",
    "\n",
    "for beta in beta_range:\n",
    "    print(\"processing beta:\", beta)\n",
    "    fpu = FPUT_Integrator(\n",
    "        num_atoms=NUM_ATOMS,\n",
    "        num_modes=NUM_MODES,\n",
    "        initial_mode_number=INITIAL_MODE_NUMBER,\n",
    "        initial_mode_amplitude=INITIAL_MODE_AMPLITUDE,\n",
    "        t_step=INTEGRATION_TIME_STEP,\n",
    "        t_max=3*T_MAX,\n",
    "        alpha=0.0,\n",
    "        beta=beta\n",
    "    )\n",
    "\n",
    "    data = fpu.run(method=\"verlet\")    \n",
    "    data_dict[beta] = data\n",
    "\n",
    "with open(f'../notebooks/output/benettin_data_dict.pickle', 'wb') as handle:\n",
    "    pickle.dump(data_dict, handle, protocol=pickle.HIGHEST_PROTOCOL)"
   ]
  },
  {
   "cell_type": "code",
   "execution_count": 6,
   "id": "3688e58b",
   "metadata": {},
   "outputs": [],
   "source": [
    "# import sys\n",
    "# print(f\"Size of data_dict: {sys.getsizeof(data_dict)/(1024*1024)} MB\");"
   ]
  },
  {
   "cell_type": "code",
   "execution_count": 3,
   "id": "2ba0ea5e",
   "metadata": {},
   "outputs": [],
   "source": [
    "with open('output/benettin_data_dict.pickle', 'rb') as handle:\n",
    "    data_dict = pickle.load(handle)\n",
    "    \n",
    "beta_range = np.arange(0.1, 3.0, 0.1, dtype=float)"
   ]
  },
  {
   "cell_type": "code",
   "execution_count": 5,
   "id": "39f53514",
   "metadata": {},
   "outputs": [
    {
     "name": "stderr",
     "output_type": "stream",
     "text": [
      "  0%|          | 0/29 [00:00<?, ?it/s]"
     ]
    }
   ],
   "source": [
    "explained_variance_ratio_cumsum_vs_energy = list()\n",
    "\n",
    "for _, data in tqdm(data_dict.items()):\n",
    "    X = create_input_data_vector(data, sample_manifold=False)\n",
    "    explained_variance_ratio = compute_explained_ratio(\n",
    "        X, pre_whitening=True, verbose=False)\n",
    "\n",
    "    explained_variance_ratio_cumsum_vs_energy.append(explained_variance_ratio.cumsum())\n",
    "\n",
    "explained_variance_ratio_cumsum_vs_energy = np.array(explained_variance_ratio_cumsum_vs_energy)"
   ]
  },
  {
   "cell_type": "code",
   "execution_count": null,
   "id": "c0fd7ae8",
   "metadata": {
    "scrolled": false
   },
   "outputs": [
    {
     "ename": "NameError",
     "evalue": "name 'explained_variance_ratio_cumsum_vs_energy' is not defined",
     "output_type": "error",
     "traceback": [
      "\u001b[0;31m---------------------------------------------------------------------------\u001b[0m",
      "\u001b[0;31mNameError\u001b[0m                                 Traceback (most recent call last)",
      "Cell \u001b[0;32mIn [4], line 4\u001b[0m\n\u001b[1;32m      1\u001b[0m fig, ax \u001b[39m=\u001b[39m plt\u001b[39m.\u001b[39msubplots(\u001b[39m1\u001b[39m, \u001b[39m1\u001b[39m)\n\u001b[1;32m      3\u001b[0m lim \u001b[39m=\u001b[39m \u001b[39m100\u001b[39m\n\u001b[0;32m----> 4\u001b[0m \u001b[39mfor\u001b[39;00m x, beta \u001b[39min\u001b[39;00m \u001b[39mzip\u001b[39m(explained_variance_ratio_cumsum_vs_energy[:lim], beta_range[:lim]):\n\u001b[1;32m      5\u001b[0m     ax\u001b[39m.\u001b[39mplot(x, \u001b[39m\"\u001b[39m\u001b[39m.-\u001b[39m\u001b[39m\"\u001b[39m, label\u001b[39m=\u001b[39m\u001b[39mf\u001b[39m\u001b[39m\"\u001b[39m\u001b[39mbeta=\u001b[39m\u001b[39m{\u001b[39;00mnp\u001b[39m.\u001b[39mround(beta, \u001b[39m2\u001b[39m)\u001b[39m}\u001b[39;00m\u001b[39m\"\u001b[39m)\n\u001b[1;32m      8\u001b[0m ax\u001b[39m.\u001b[39mplot(explained_variance_ratio_cumsum_vs_energy[\u001b[39m16\u001b[39m], \u001b[39m\"\u001b[39m\u001b[39m--\u001b[39m\u001b[39m\"\u001b[39m, label\u001b[39m=\u001b[39m\u001b[39mf\u001b[39m\u001b[39m\"\u001b[39m\u001b[39mbeta=\u001b[39m\u001b[39m{\u001b[39;00mnp\u001b[39m.\u001b[39mround(beta_range[\u001b[39m16\u001b[39m], \u001b[39m2\u001b[39m)\u001b[39m}\u001b[39;00m\u001b[39m\"\u001b[39m, color\u001b[39m=\u001b[39m\u001b[39m'\u001b[39m\u001b[39mk\u001b[39m\u001b[39m'\u001b[39m)\n",
      "\u001b[0;31mNameError\u001b[0m: name 'explained_variance_ratio_cumsum_vs_energy' is not defined"
     ]
    },
    {
     "data": {
      "image/png": "[encoded data removed]",
      "text/plain": [
       "<Figure size 640x480 with 1 Axes>"
      ]
     },
     "metadata": {},
     "output_type": "display_data"
    }
   ],
   "source": [
    "fig, ax = plt.subplots(1, 1)\n",
    "\n",
    "lim = 100\n",
    "for x, beta in zip(explained_variance_ratio_cumsum_vs_energy[:lim], beta_range[:lim]):\n",
    "    ax.plot(x, \".-\", label=f\"beta={np.round(beta, 2)}\")\n",
    "    \n",
    "\n",
    "ax.plot(explained_variance_ratio_cumsum_vs_energy[16], \"--\", label=f\"beta={np.round(beta_range[16], 2)}\", color='k')\n",
    "\n",
    "# relabel xaxis\n",
    "# ax.set_xticks(np.arange(1, 30,10))\n",
    "    \n",
    "ax.legend()\n",
    "ax.set_xlim(0, 10)\n",
    "ax.grid()\n",
    "ax.set_ylabel('cumsum expl.variance ratio')"
   ]
  },
  {
   "cell_type": "code",
   "execution_count": 18,
   "id": "f86bfcaf",
   "metadata": {},
   "outputs": [
    {
     "data": {
      "text/plain": [
       "(4,)"
      ]
     },
     "execution_count": 18,
     "metadata": {},
     "output_type": "execute_result"
    }
   ],
   "source": [
    "explained_variance_ratio_cumsum_vs_energy[0].shape"
   ]
  }
 ],
 "metadata": {
  "kernelspec": {
   "display_name": "fpuvenv",
   "language": "python",
   "name": "python3"
  },
  "language_info": {
   "codemirror_mode": {
    "name": "ipython",
    "version": 3
   },
   "file_extension": ".py",
   "mimetype": "text/x-python",
   "name": "python",
   "nbconvert_exporter": "python",
   "pygments_lexer": "ipython3",
   "version": "3.9.15 (main, Oct 11 2022, 21:39:54) \n[Clang 14.0.0 (clang-1400.0.29.102)]"
  },
  "vscode": {
   "interpreter": {
    "hash": "82b030bb993514921c0e6101fdf960482a557c8a877f19bd39fe0a80f5dcf631"
   }
  }
 },
 "nbformat": 4,
 "nbformat_minor": 5
}
