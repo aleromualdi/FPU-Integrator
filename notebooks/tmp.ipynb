{
 "cells": [
  {
   "cell_type": "code",
   "execution_count": 1,
   "id": "bd0f2419",
   "metadata": {},
   "outputs": [],
   "source": [
    "import numpy as np"
   ]
  },
  {
   "cell_type": "code",
   "execution_count": 3,
   "id": "6b281a86",
   "metadata": {},
   "outputs": [],
   "source": [
    "ll = np.load(\"/Users/alessandro.romualdi/projects/gionni/40_FPUT/fput/output/prova/p.npy\")"
   ]
  },
  {
   "cell_type": "code",
   "execution_count": 5,
   "id": "4ff66f9b",
   "metadata": {},
   "outputs": [
    {
     "data": {
      "text/plain": [
       "(32, 4000)"
      ]
     },
     "execution_count": 5,
     "metadata": {},
     "output_type": "execute_result"
    }
   ],
   "source": [
    "ll.shape"
   ]
  },
  {
   "cell_type": "code",
   "execution_count": null,
   "id": "0c5fad14",
   "metadata": {},
   "outputs": [],
   "source": []
  },
  {
   "cell_type": "code",
   "execution_count": null,
   "id": "56631e68",
   "metadata": {},
   "outputs": [],
   "source": []
  }
 ],
 "metadata": {
  "kernelspec": {
   "display_name": "fpuvenv",
   "language": "python",
   "name": "python3"
  },
  "language_info": {
   "codemirror_mode": {
    "name": "ipython",
    "version": 3
   },
   "file_extension": ".py",
   "mimetype": "text/x-python",
   "name": "python",
   "nbconvert_exporter": "python",
   "pygments_lexer": "ipython3",
   "version": "3.9.15"
  },
  "vscode": {
   "interpreter": {
    "hash": "82b030bb993514921c0e6101fdf960482a557c8a877f19bd39fe0a80f5dcf631"
   }
  }
 },
 "nbformat": 4,
 "nbformat_minor": 5
}
