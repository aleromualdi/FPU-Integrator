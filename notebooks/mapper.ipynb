{
 "cells": [
  {
   "cell_type": "code",
   "execution_count": 1,
   "id": "80b2b1cc",
   "metadata": {},
   "outputs": [],
   "source": [
    "import numpy as np\n",
    "import sklearn\n",
    "import kmapper as km\n",
    "import pickle \n",
    "import matplotlib.pyplot as plt \n",
    "from fput.utils import create_input_data_vector, compute_explained_ratio\n",
    "# from generate_datasets import make_point_clouds\n",
    "\n",
    "#for Plotly visualization import:\n",
    "from kmapper.plotlyviz import plotlyviz\n",
    "from kmapper.plotlyviz import *\n",
    "import plotly.graph_objs as go\n",
    "\n",
    "# %matplotlib inline"
   ]
  },
  {
   "cell_type": "code",
   "execution_count": 2,
   "id": "8cf67026",
   "metadata": {},
   "outputs": [],
   "source": [
    "# from fput.integrator import FPUT_Integrator\n",
    "\n",
    "# NUM_ATOMS = 32  # number of particles equals to N in FPUT equations\n",
    "# T_MAX = 20000   # maximum time of simulation\n",
    "# INTEGRATION_TIME_STEP = 0.05\n",
    "# INITIAL_MODE_NUMBER = 1\n",
    "# NUM_MODES = 3  # number of modes to be observed\n",
    "# INITIAL_MODE_AMPLITUDE = 10\n",
    "\n",
    "# fpu = FPUT_Integrator(\n",
    "#     num_atoms=NUM_ATOMS,\n",
    "#     num_modes=NUM_MODES,\n",
    "#     initial_mode_number=1,\n",
    "#     initial_mode_amplitude=INITIAL_MODE_AMPLITUDE,\n",
    "#     t_step=0.5,\n",
    "#     t_max=T_MAX/10,\n",
    "#     alpha=0.0,\n",
    "#     beta=0.0\n",
    "# )\n",
    "\n",
    "# data = fpu.run(method=\"verlet\")\n",
    "\n",
    "# X = create_input_data_vector(data, sample_manifold=False)\n",
    "# print(X.shape)\n",
    "\n",
    "# plt.plot(X[:,0], X[:,32], \".\")"
   ]
  },
  {
   "cell_type": "code",
   "execution_count": 64,
   "id": "7b4746f5",
   "metadata": {},
   "outputs": [],
   "source": [
    "# load dataset\n",
    "with open('output/benettin_data_dict.pickle', 'rb') as handle:\n",
    "    data_dict = pickle.load(handle)\n",
    "    \n",
    "beta_range = np.arange(0.1, 3.0, 0.1, dtype=float)\n"
   ]
  },
  {
   "cell_type": "code",
   "execution_count": 59,
   "id": "21ea3611",
   "metadata": {},
   "outputs": [
    {
     "name": "stdout",
     "output_type": "stream",
     "text": [
      "1.1\n"
     ]
    },
    {
     "data": {
      "text/plain": [
       "(1200000, 64)"
      ]
     },
     "execution_count": 59,
     "metadata": {},
     "output_type": "execute_result"
    }
   ],
   "source": [
    "# pick data for beta\n",
    "beta = list(data_dict.keys())[10]\n",
    "print(beta)\n",
    "tdata = data_dict[beta]\n",
    "\n",
    "X = create_input_data_vector(tdata, sample_manifold=False)\n",
    "X.shape"
   ]
  },
  {
   "cell_type": "code",
   "execution_count": 60,
   "id": "9fcd57a6",
   "metadata": {},
   "outputs": [],
   "source": [
    "# point_clouds_basic, labels_basic = make_point_clouds(n_samples_per_shape=10, n_points=20, noise=0.5)\n",
    "# X = point_clouds_basic\n",
    "\n",
    "# plt.plot(X[0, :,0], X[0, :,1], \".\")"
   ]
  },
  {
   "cell_type": "code",
   "execution_count": null,
   "id": "e23cae76",
   "metadata": {},
   "outputs": [],
   "source": []
  },
  {
   "cell_type": "code",
   "execution_count": 61,
   "id": "3923868e",
   "metadata": {},
   "outputs": [
    {
     "name": "stdout",
     "output_type": "stream",
     "text": [
      "(10, 500, 64)\n"
     ]
    },
    {
     "data": {
      "text/plain": [
       "[<matplotlib.lines.Line2D at 0x700506d00>]"
      ]
     },
     "execution_count": 61,
     "metadata": {},
     "output_type": "execute_result"
    },
    {
     "data": {
      "image/png": "[encoded data removed]",
      "text/plain": [
       "<Figure size 640x480 with 1 Axes>"
      ]
     },
     "metadata": {},
     "output_type": "display_data"
    }
   ],
   "source": [
    "# sample X\n",
    "\n",
    "X_samples = []\n",
    "for _ in range(10):\n",
    "    idxs = np.random.choice(X.shape[0], 500)\n",
    "    X_samples.append(X[idxs])\n",
    "\n",
    "X_samples = np.array(X_samples)\n",
    "\n",
    "print(X_samples.shape)\n",
    "\n",
    "plt.plot(X_samples[0, :,0], X_samples[0, :,32], \".\")"
   ]
  },
  {
   "cell_type": "code",
   "execution_count": 62,
   "id": "a3edd3fa",
   "metadata": {},
   "outputs": [],
   "source": [
    "# # get 2d array from sample\n",
    "# X_sample_ = np.concatenate([X_samples[0, :,0][None], X_samples[0, :,32][None]]).T\n",
    "# X_sample_.shape"
   ]
  },
  {
   "cell_type": "code",
   "execution_count": 63,
   "id": "ebe1abf8",
   "metadata": {},
   "outputs": [
    {
     "name": "stdout",
     "output_type": "stream",
     "text": [
      "(1, 673, 3)\n"
     ]
    },
    {
     "data": {
      "application/vnd.plotly.v1+json": {
       "config": {
        "plotlyServerURL": "https://plot.ly"
       },
       "data": [
        {
         "hoverinfo": "none",
         "line": {
          "color": "black",
          "dash": "dash",
          "width": 1
         },
         "mode": "lines",
         "showlegend": false,
         "type": "scatter",
         "x": [
          -0.022649967670440675,
          1.1551483511924743
         ],
         "y": [
          -0.022649967670440675,
          1.1551483511924743
         ]
        },
        {
         "hoverinfo": "text",
         "hovertext": [
          "(0.0, 4.212781641399488e-05)",
          "(0.0, 4.6989847760414705e-05)",
          "(0.0, 5.553051960305311e-05)",
          "(0.0, 6.210641731740907e-05)",
          "(0.0, 8.513846842106432e-05)",
          "(0.0, 0.00010874951840378344)",
          "(0.0, 0.00012296868953853846)",
          "(0.0, 0.00013872604176867753)",
          "(0.0, 0.00014825252583250403)",
          "(0.0, 0.0001512170274509117)",
          "(0.0, 0.0001590855827089399)",
          "(0.0, 0.00016032633720897138)",
          "(0.0, 0.00016479934856761247)",
          "(0.0, 0.00016884556680452079)",
          "(0.0, 0.00017395334725733846)",
          "(0.0, 0.00018618044850882143)",
          "(0.0, 0.0002060936822090298)",
          "(0.0, 0.00023014878388494253)",
          "(0.0, 0.00024406042939517647)",
          "(0.0, 0.0002882126427721232)",
          "(0.0, 0.00030980625888332725)",
          "(0.0, 0.00032561601256020367)",
          "(0.0, 0.0003339294053148478)",
          "(0.0, 0.0003815664385911077)",
          "(0.0, 0.0003869262000080198)",
          "(0.0, 0.0003926765057258308)",
          "(0.0, 0.00039428682066500187)",
          "(0.0, 0.0003988271055277437)",
          "(0.0, 0.00042106822365894914)",
          "(0.0, 0.00042304012458771467)",
          "(0.0, 0.00042634509736672044)",
          "(0.0, 0.0004340964660514146)",
          "(0.0, 0.0004358361184131354)",
          "(0.0, 0.0004461970820557326)",
          "(0.0, 0.00044886505929753184)",
          "(0.0, 0.0004531957092694938)",
          "(0.0, 0.00046372765791602433)",
          "(0.0, 0.0004746643244288862)",
          "(0.0, 0.0004851815174333751)",
          "(0.0, 0.0004873921861872077)",
          "(0.0, 0.0004894931917078793)",
          "(0.0, 0.0005070875631645322)",
          "(0.0, 0.0005180235602892935)",
          "(0.0, 0.0005439700908027589)",
          "(0.0, 0.0005501689738593996)",
          "(0.0, 0.0005545252934098244)",
          "(0.0, 0.000557240447960794)",
          "(0.0, 0.0005918638198636472)",
          "(0.0, 0.0005973291699774563)",
          "(0.0, 0.0006042656605131924)",
          "(0.0, 0.0006225942051969469)",
          "(0.0, 0.000630210037343204)",
          "(0.0, 0.0006420494173653424)",
          "(0.0, 0.0006446662591770291)",
          "(0.0, 0.0006464744219556451)",
          "(0.0, 0.0006572182755917311)",
          "(0.0, 0.0006959905149415135)",
          "(0.0, 0.0006980871548876166)",
          "(0.0, 0.0007135949563235044)",
          "(0.0, 0.0007142957765609026)",
          "(0.0, 0.000719078816473484)",
          "(0.0, 0.0007259593112394214)",
          "(0.0, 0.0007411611150018871)",
          "(0.0, 0.0007570629823021591)",
          "(0.0, 0.0007617342052981257)",
          "(0.0, 0.0007780171581543982)",
          "(0.0, 0.000785604992415756)",
          "(0.0, 0.0007872515707276762)",
          "(0.0, 0.000832364778034389)",
          "(0.0, 0.000838620588183403)",
          "(0.0, 0.0008410351001657546)",
          "(0.0, 0.0008473490015603602)",
          "(0.0, 0.0008631643722765148)",
          "(0.0, 0.0008714896976016462)",
          "(0.0, 0.0008734482689760625)",
          "(0.0, 0.0008771387510932982)",
          "(0.0, 0.0008831632439978421)",
          "(0.0, 0.0008858100045472383)",
          "(0.0, 0.0008922367705963552)",
          "(0.0, 0.0008977653924375772)",
          "(0.0, 0.0008981456630863249)",
          "(0.0, 0.00090695486869663)",
          "(0.0, 0.0009083610493689775)",
          "(0.0, 0.0009230163414031267)",
          "(0.0, 0.0009369810577481985)",
          "(0.0, 0.000937743519898504)",
          "(0.0, 0.0009425550815649331)",
          "(0.0, 0.0009427816257812083)",
          "(0.0, 0.0009454254759475589)",
          "(0.0, 0.000945894222240895)",
          "(0.0, 0.0009655492031015456)",
          "(0.0, 0.0009788109455257654)",
          "(0.0, 0.0009810702176764607)",
          "(0.0, 0.0009817888494580984)",
          "(0.0, 0.0009846979519352317)",
          "(0.0, 0.0009969937382265925)",
          "(0.0, 0.0010050219716504216)",
          "(0.0, 0.0010099945357069373)",
          "(0.0, 0.0010249160695821047)",
          "(0.0, 0.0010710773058235645)",
          "(0.0, 0.0010767136700451374)",
          "(0.0, 0.0010812596883624792)",
          "(0.0, 0.0010965908877551556)",
          "(0.0, 0.0011097020469605923)",
          "(0.0, 0.0011116409441456199)",
          "(0.0, 0.0011275977594777942)",
          "(0.0, 0.0011354208691045642)",
          "(0.0, 0.0011379646603018045)",
          "(0.0, 0.001139248488470912)",
          "(0.0, 0.0011425740085542202)",
          "(0.0, 0.0011535267112776637)",
          "(0.0, 0.0011537089012563229)",
          "(0.0, 0.0011540638515725732)",
          "(0.0, 0.0011739054461941123)",
          "(0.0, 0.0011785014066845179)",
          "(0.0, 0.0011817804770544171)",
          "(0.0, 0.001186028472147882)",
          "(0.0, 0.0011928112944588065)",
          "(0.0, 0.0011929323663935065)",
          "(0.0, 0.001214527408592403)",
          "(0.0, 0.0012197443284094334)",
          "(0.0, 0.001238671480678022)",
          "(0.0, 0.00124452356249094)",
          "(0.0, 0.0012581178452819586)",
          "(0.0, 0.0012642329093068838)",
          "(0.0, 0.0012762924889102578)",
          "(0.0, 0.0012839180417358875)",
          "(0.0, 0.0012903984170407057)",
          "(0.0, 0.0012979134917259216)",
          "(0.0, 0.0013057690812274814)",
          "(0.0, 0.0013491236604750156)",
          "(0.0, 0.0013498759362846613)",
          "(0.0, 0.0013599027879536152)",
          "(0.0, 0.0013604398118332028)",
          "(0.0, 0.0013636047951877117)",
          "(0.0, 0.0013645211001858115)",
          "(0.0, 0.0014075885992497206)",
          "(0.0, 0.0014082054840400815)",
          "(0.0, 0.0014274525456130505)",
          "(0.0, 0.0014374597230926156)",
          "(0.0, 0.001447945018298924)",
          "(0.0, 0.0014560831477865577)",
          "(0.0, 0.001456649973988533)",
          "(0.0, 0.0014671710086986423)",
          "(0.0, 0.0014877598732709885)",
          "(0.0, 0.0014982364373281598)",
          "(0.0, 0.0015149377286434174)",
          "(0.0, 0.0015164691722020507)",
          "(0.0, 0.0015288948779925704)",
          "(0.0, 0.00155174033716321)",
          "(0.0, 0.0015661914367228746)",
          "(0.0, 0.0015947921201586723)",
          "(0.0, 0.001617654226720333)",
          "(0.0, 0.001619590912014246)",
          "(0.0, 0.001619927235879004)",
          "(0.0, 0.0016238726675510406)",
          "(0.0, 0.0016241265693679452)",
          "(0.0, 0.001633653650060296)",
          "(0.0, 0.0016359009314328432)",
          "(0.0, 0.0016442573396489024)",
          "(0.0, 0.001657359767705202)",
          "(0.0, 0.0016656805528327823)",
          "(0.0, 0.0016658753156661987)",
          "(0.0, 0.0016769319772720337)",
          "(0.0, 0.0017039997037500143)",
          "(0.0, 0.0017163060838356614)",
          "(0.0, 0.0017399691278114915)",
          "(0.0, 0.0017476360080763698)",
          "(0.0, 0.001750857220031321)",
          "(0.0, 0.001759050413966179)",
          "(0.0, 0.0017640781588852406)",
          "(0.0, 0.0017687265062704682)",
          "(0.0, 0.0017922623082995415)",
          "(0.0, 0.0018222801154479384)",
          "(0.0, 0.0018470484064891934)",
          "(0.0, 0.001861816504970193)",
          "(0.0, 0.0018692158628255129)",
          "(0.0, 0.0018743843538686633)",
          "(0.0, 0.0018924861215054989)",
          "(0.0, 0.0019063844811171293)",
          "(0.0, 0.001918453723192215)",
          "(0.0, 0.0020280436147004366)",
          "(0.0, 0.0020308904349803925)",
          "(0.0, 0.0020683584734797478)",
          "(0.0, 0.0021033245138823986)",
          "(0.0, 0.002157834591343999)",
          "(0.0, 0.0021590557880699635)",
          "(0.0, 0.0022555559407919645)",
          "(0.0, 0.0022851922549307346)",
          "(0.0, 0.0022978803608566523)",
          "(0.0, 0.0023047886788845062)",
          "(0.0, 0.0023110671900212765)",
          "(0.0, 0.0023311360273510218)",
          "(0.0, 0.0023442143574357033)",
          "(0.0, 0.0023700441233813763)",
          "(0.0, 0.0023787093814462423)",
          "(0.0, 0.002396989380940795)",
          "(0.0, 0.0024260072968900204)",
          "(0.0, 0.002447847742587328)",
          "(0.0, 0.002453573513776064)",
          "(0.0, 0.002482085255905986)",
          "(0.0, 0.0024908368941396475)",
          "(0.0, 0.0025746263563632965)",
          "(0.0, 0.0025968255940824747)",
          "(0.0, 0.002600504085421562)",
          "(0.0, 0.002606805181130767)",
          "(0.0, 0.0026289373636245728)",
          "(0.0, 0.002717519411817193)",
          "(0.0, 0.002800051588565111)",
          "(0.0, 0.002846761839464307)",
          "(0.0, 0.0028531518764793873)",
          "(0.0, 0.002920120256021619)",
          "(0.0, 0.0029593179933726788)",
          "(0.0, 0.00297518796287477)",
          "(0.0, 0.0030077595729380846)",
          "(0.0, 0.0030151978135108948)",
          "(0.0, 0.003030125517398119)",
          "(0.0, 0.0030388531740754843)",
          "(0.0, 0.0030527005437761545)",
          "(0.0, 0.0030795857310295105)",
          "(0.0, 0.0031126111280173063)",
          "(0.0, 0.003114578779786825)",
          "(0.0, 0.003121910849586129)",
          "(0.0, 0.0031489490065723658)",
          "(0.0, 0.0032343158964067698)",
          "(0.0, 0.0032537374645471573)",
          "(0.0, 0.0033668456599116325)",
          "(0.0, 0.003374530700966716)",
          "(0.0, 0.0035142148844897747)",
          "(0.0, 0.003526363056153059)",
          "(0.0, 0.003546994412317872)",
          "(0.0, 0.003615033347159624)",
          "(0.0, 0.0036303994711488485)",
          "(0.0, 0.003667291486635804)",
          "(0.0, 0.0037015166599303484)",
          "(0.0, 0.0037699323147535324)",
          "(0.0, 0.0037888174410909414)",
          "(0.0, 0.0038357749581336975)",
          "(0.0, 0.0038510363083332777)",
          "(0.0, 0.003886609571054578)",
          "(0.0, 0.003918963484466076)",
          "(0.0, 0.003926611039787531)",
          "(0.0, 0.0039371307939291)",
          "(0.0, 0.003939134534448385)",
          "(0.0, 0.003965587820857763)",
          "(0.0, 0.003973080310970545)",
          "(0.0, 0.004003729671239853)",
          "(0.0, 0.004036570433527231)",
          "(0.0, 0.004116510506719351)",
          "(0.0, 0.004121231846511364)",
          "(0.0, 0.0041707586497068405)",
          "(0.0, 0.004184373188763857)",
          "(0.0, 0.004227090626955032)",
          "(0.0, 0.0042300838977098465)",
          "(0.0, 0.004281149245798588)",
          "(0.0, 0.004292286932468414)",
          "(0.0, 0.004361492116004229)",
          "(0.0, 0.004391158930957317)",
          "(0.0, 0.004509296268224716)",
          "(0.0, 0.004515025299042463)",
          "(0.0, 0.004521816037595272)",
          "(0.0, 0.004611917771399021)",
          "(0.0, 0.0046544149518013)",
          "(0.0, 0.004672095645219088)",
          "(0.0, 0.004763034638017416)",
          "(0.0, 0.0047716060653328896)",
          "(0.0, 0.004796352703124285)",
          "(0.0, 0.004959167912602425)",
          "(0.0, 0.004966902546584606)",
          "(0.0, 0.004975871182978153)",
          "(0.0, 0.005081993993371725)",
          "(0.0, 0.005167354829609394)",
          "(0.0, 0.005287442822009325)",
          "(0.0, 0.005296967923641205)",
          "(0.0, 0.005371025763452053)",
          "(0.0, 0.005399151239544153)",
          "(0.0, 0.0054182372987270355)",
          "(0.0, 0.0054771872237324715)",
          "(0.0, 0.005516591016203165)",
          "(0.0, 0.005538518540561199)",
          "(0.0, 0.005551198497414589)",
          "(0.0, 0.005593375768512487)",
          "(0.0, 0.005669903941452503)",
          "(0.0, 0.005756042897701263)",
          "(0.0, 0.005768053699284792)",
          "(0.0, 0.005858810152858496)",
          "(0.0, 0.0059580374509096146)",
          "(0.0, 0.0059652989730238914)",
          "(0.0, 0.005978473927825689)",
          "(0.0, 0.006025396753102541)",
          "(0.0, 0.0060917166993021965)",
          "(0.0, 0.006126806605607271)",
          "(0.0, 0.006227872334420681)",
          "(0.0, 0.0062833866104483604)",
          "(0.0, 0.00629224069416523)",
          "(0.0, 0.0064820051193237305)",
          "(0.0, 0.006485363002866507)",
          "(0.0, 0.006504549644887447)",
          "(0.0, 0.00653420202434063)",
          "(0.0, 0.006655339617282152)",
          "(0.0, 0.006784075405448675)",
          "(0.0, 0.007026201114058495)",
          "(0.0, 0.007189920172095299)",
          "(0.0, 0.0073227002285420895)",
          "(0.0, 0.007341018412262201)",
          "(0.0, 0.007388611324131489)",
          "(0.0, 0.0074021341279149055)",
          "(0.0, 0.0074302093125879765)",
          "(0.0, 0.007824762724339962)",
          "(0.0, 0.007852969691157341)",
          "(0.0, 0.007873738184571266)",
          "(0.0, 0.007942772470414639)",
          "(0.0, 0.00806058757007122)",
          "(0.0, 0.008064758963882923)",
          "(0.0, 0.008172293193638325)",
          "(0.0, 0.008210394531488419)",
          "(0.0, 0.008256669156253338)",
          "(0.0, 0.008344006724655628)",
          "(0.0, 0.008467172272503376)",
          "(0.0, 0.008518592454493046)",
          "(0.0, 0.008533426560461521)",
          "(0.0, 0.008577627129852772)",
          "(0.0, 0.008638003841042519)",
          "(0.0, 0.008789414539933205)",
          "(0.0, 0.008875959552824497)",
          "(0.0, 0.008926278911530972)",
          "(0.0, 0.009027266874909401)",
          "(0.0, 0.009067039005458355)",
          "(0.0, 0.009082254953682423)",
          "(0.0, 0.00909876823425293)",
          "(0.0, 0.009237807244062424)",
          "(0.0, 0.009565915912389755)",
          "(0.0, 0.009620034135878086)",
          "(0.0, 0.009911665692925453)",
          "(0.0, 0.009968187659978867)",
          "(0.0, 0.01010036375373602)",
          "(0.0, 0.010136487893760204)",
          "(0.0, 0.010160176083445549)",
          "(0.0, 0.01029740460216999)",
          "(0.0, 0.010320911183953285)",
          "(0.0, 0.010354378260672092)",
          "(0.0, 0.01040149386972189)",
          "(0.0, 0.010435842908918858)",
          "(0.0, 0.010483818128705025)",
          "(0.0, 0.010651446878910065)",
          "(0.0, 0.010659517720341682)",
          "(0.0, 0.010883943177759647)",
          "(0.0, 0.01106902863830328)",
          "(0.0, 0.01110323891043663)",
          "(0.0, 0.011140299960970879)",
          "(0.0, 0.011319497600197792)",
          "(0.0, 0.011379806324839592)",
          "(0.0, 0.011553147807717323)",
          "(0.0, 0.011688927188515663)",
          "(0.0, 0.011824867688119411)",
          "(0.0, 0.011878445744514465)",
          "(0.0, 0.01198356319218874)",
          "(0.0, 0.012032506987452507)",
          "(0.0, 0.01229363027960062)",
          "(0.0, 0.012341379188001156)",
          "(0.0, 0.012735933996737003)",
          "(0.0, 0.012817982584238052)",
          "(0.0, 0.01312869694083929)",
          "(0.0, 0.013244948349893093)",
          "(0.0, 0.013246824033558369)",
          "(0.0, 0.013579297810792923)",
          "(0.0, 0.014054968021810055)",
          "(0.0, 0.014055774547159672)",
          "(0.0, 0.014317834749817848)",
          "(0.0, 0.014320175163447857)",
          "(0.0, 0.014436319470405579)",
          "(0.0, 0.014625723473727703)",
          "(0.0, 0.014833291061222553)",
          "(0.0, 0.014905792661011219)",
          "(0.0, 0.01514451578259468)",
          "(0.0, 0.015204829163849354)",
          "(0.0, 0.015282278880476952)",
          "(0.0, 0.0157669335603714)",
          "(0.0, 0.015980452299118042)",
          "(0.0, 0.01623510755598545)",
          "(0.0, 0.01646510325372219)",
          "(0.0, 0.01649768464267254)",
          "(0.0, 0.016606081277132034)",
          "(0.0, 0.016849840059876442)",
          "(0.0, 0.017138982191681862)",
          "(0.0, 0.01733359880745411)",
          "(0.0, 0.017849331721663475)",
          "(0.0, 0.01801317371428013)",
          "(0.0, 0.018075741827487946)",
          "(0.0, 0.018164902925491333)",
          "(0.0, 0.018332436680793762)",
          "(0.0, 0.018645308911800385)",
          "(0.0, 0.01886346936225891)",
          "(0.0, 0.0188735518604517)",
          "(0.0, 0.018907619640231133)",
          "(0.0, 0.019697848707437515)",
          "(0.0, 0.019819173961877823)",
          "(0.0, 0.019865846261382103)",
          "(0.0, 0.02019592933356762)",
          "(0.0, 0.020715784281492233)",
          "(0.0, 0.020723892375826836)",
          "(0.0, 0.0212977547198534)",
          "(0.0, 0.021433573216199875)",
          "(0.0, 0.02161547914147377)",
          "(0.0, 0.022349802777171135)",
          "(0.0, 0.022475523874163628)",
          "(0.0, 0.022932128980755806)",
          "(0.0, 0.0239426102489233)",
          "(0.0, 0.02407670021057129)",
          "(0.0, 0.024742258712649345)",
          "(0.0, 0.0256011001765728)",
          "(0.0, 0.025829385966062546)",
          "(0.0, 0.026130670681595802)",
          "(0.0, 0.026131758466362953)",
          "(0.0, 0.02657214365899563)",
          "(0.0, 0.027216164395213127)",
          "(0.0, 0.0288186464458704)",
          "(0.0, 0.02890883758664131)",
          "(0.0, 0.029421323910355568)",
          "(0.0, 0.029438434168696404)",
          "(0.0, 0.029521510004997253)",
          "(0.0, 0.029978035017848015)",
          "(0.0, 0.030131159350275993)",
          "(0.0, 0.03031357005238533)",
          "(0.0, 0.0307993795722723)",
          "(0.0, 0.0308352243155241)",
          "(0.0, 0.031221039593219757)",
          "(0.0, 0.03204335272312164)",
          "(0.0, 0.03217524662613869)",
          "(0.0, 0.03219645097851753)",
          "(0.0, 0.032654616981744766)",
          "(0.0, 0.032798442989587784)",
          "(0.0, 0.03333259001374245)",
          "(0.0, 0.03336446359753609)",
          "(0.0, 0.03383578360080719)",
          "(0.0, 0.03429875895380974)",
          "(0.0, 0.03467202186584473)",
          "(0.0, 0.036450255662202835)",
          "(0.0, 0.03663188964128494)",
          "(0.0, 0.03907857835292816)",
          "(0.0, 0.0397307462990284)",
          "(0.0, 0.04031667858362198)",
          "(0.0, 0.04109598696231842)",
          "(0.0, 0.0413721539080143)",
          "(0.0, 0.04149845615029335)",
          "(0.0, 0.042397625744342804)",
          "(0.0, 0.04280536621809006)",
          "(0.0, 0.04288681969046593)",
          "(0.0, 0.043178997933864594)",
          "(0.0, 0.04327106475830078)",
          "(0.0, 0.04331560432910919)",
          "(0.0, 0.04339440166950226)",
          "(0.0, 0.043852299451828)",
          "(0.0, 0.044849202036857605)",
          "(0.0, 0.045722633600234985)",
          "(0.0, 0.04582572355866432)",
          "(0.0, 0.047660116106271744)",
          "(0.0, 0.047860629856586456)",
          "(0.0, 0.048078957945108414)",
          "(0.0, 0.05049954354763031)",
          "(0.0, 0.05088523402810097)",
          "(0.0, 0.05173037573695183)",
          "(0.0, 0.05375875160098076)",
          "(0.0, 0.05555146187543869)",
          "(0.0, 0.05629580095410347)",
          "(0.0, 0.056928422302007675)",
          "(0.0, 0.059323620051145554)",
          "(0.0, 0.05966639891266823)",
          "(0.0, 0.06041891500353813)",
          "(0.0, 0.06101125478744507)",
          "(0.0, 0.06120578944683075)",
          "(0.0, 0.06362573802471161)",
          "(0.0, 0.0712747648358345)",
          "(0.0, 0.07267171144485474)",
          "(0.0, 0.07416702806949615)",
          "(0.0, 0.07421436160802841)",
          "(0.0, 0.07764360308647156)",
          "(0.0, 0.07922002673149109)",
          "(0.0, 0.08184225857257843)",
          "(0.0, 0.08298507332801819)",
          "(0.0, 0.0843682661652565)",
          "(0.0, 0.08529072254896164)",
          "(0.0, 0.08683321624994278)",
          "(0.0, 0.09160116314888)",
          "(0.0, 0.09294864535331726)",
          "(0.0, 0.10125406086444855)",
          "(0.0, 0.10277272760868073)",
          "(0.0, 0.10887054353952408)",
          "(0.0, 0.11415848135948181)",
          "(0.0, 0.11513305455446243)",
          "(0.0, 0.11729216575622559)",
          "(0.0, 0.11837754398584366)",
          "(0.0, 0.1304706186056137)",
          "(0.0, 0.13147695362567902)",
          "(0.0, 0.13583128154277802)",
          "(0.0, 0.14182808995246887)",
          "(0.0, 0.15479177236557007)",
          "(0.0, 0.16719289124011993)",
          "(0.0, 0.18132257461547852)"
         ],
         "mode": "markers",
         "name": "H0",
         "type": "scatter",
         "x": [
          0,
          0,
          0,
          0,
          0,
          0,
          0,
          0,
          0,
          0,
          0,
          0,
          0,
          0,
          0,
          0,
          0,
          0,
          0,
          0,
          0,
          0,
          0,
          0,
          0,
          0,
          0,
          0,
          0,
          0,
          0,
          0,
          0,
          0,
          0,
          0,
          0,
          0,
          0,
          0,
          0,
          0,
          0,
          0,
          0,
          0,
          0,
          0,
          0,
          0,
          0,
          0,
          0,
          0,
          0,
          0,
          0,
          0,
          0,
          0,
          0,
          0,
          0,
          0,
          0,
          0,
          0,
          0,
          0,
          0,
          0,
          0,
          0,
          0,
          0,
          0,
          0,
          0,
          0,
          0,
          0,
          0,
          0,
          0,
          0,
          0,
          0,
          0,
          0,
          0,
          0,
          0,
          0,
          0,
          0,
          0,
          0,
          0,
          0,
          0,
          0,
          0,
          0,
          0,
          0,
          0,
          0,
          0,
          0,
          0,
          0,
          0,
          0,
          0,
          0,
          0,
          0,
          0,
          0,
          0,
          0,
          0,
          0,
          0,
          0,
          0,
          0,
          0,
          0,
          0,
          0,
          0,
          0,
          0,
          0,
          0,
          0,
          0,
          0,
          0,
          0,
          0,
          0,
          0,
          0,
          0,
          0,
          0,
          0,
          0,
          0,
          0,
          0,
          0,
          0,
          0,
          0,
          0,
          0,
          0,
          0,
          0,
          0,
          0,
          0,
          0,
          0,
          0,
          0,
          0,
          0,
          0,
          0,
          0,
          0,
          0,
          0,
          0,
          0,
          0,
          0,
          0,
          0,
          0,
          0,
          0,
          0,
          0,
          0,
          0,
          0,
          0,
          0,
          0,
          0,
          0,
          0,
          0,
          0,
          0,
          0,
          0,
          0,
          0,
          0,
          0,
          0,
          0,
          0,
          0,
          0,
          0,
          0,
          0,
          0,
          0,
          0,
          0,
          0,
          0,
          0,
          0,
          0,
          0,
          0,
          0,
          0,
          0,
          0,
          0,
          0,
          0,
          0,
          0,
          0,
          0,
          0,
          0,
          0,
          0,
          0,
          0,
          0,
          0,
          0,
          0,
          0,
          0,
          0,
          0,
          0,
          0,
          0,
          0,
          0,
          0,
          0,
          0,
          0,
          0,
          0,
          0,
          0,
          0,
          0,
          0,
          0,
          0,
          0,
          0,
          0,
          0,
          0,
          0,
          0,
          0,
          0,
          0,
          0,
          0,
          0,
          0,
          0,
          0,
          0,
          0,
          0,
          0,
          0,
          0,
          0,
          0,
          0,
          0,
          0,
          0,
          0,
          0,
          0,
          0,
          0,
          0,
          0,
          0,
          0,
          0,
          0,
          0,
          0,
          0,
          0,
          0,
          0,
          0,
          0,
          0,
          0,
          0,
          0,
          0,
          0,
          0,
          0,
          0,
          0,
          0,
          0,
          0,
          0,
          0,
          0,
          0,
          0,
          0,
          0,
          0,
          0,
          0,
          0,
          0,
          0,
          0,
          0,
          0,
          0,
          0,
          0,
          0,
          0,
          0,
          0,
          0,
          0,
          0,
          0,
          0,
          0,
          0,
          0,
          0,
          0,
          0,
          0,
          0,
          0,
          0,
          0,
          0,
          0,
          0,
          0,
          0,
          0,
          0,
          0,
          0,
          0,
          0,
          0,
          0,
          0,
          0,
          0,
          0,
          0,
          0,
          0,
          0,
          0,
          0,
          0,
          0,
          0,
          0,
          0,
          0,
          0,
          0,
          0,
          0,
          0,
          0,
          0,
          0,
          0,
          0,
          0,
          0,
          0,
          0,
          0,
          0,
          0,
          0,
          0,
          0,
          0,
          0,
          0,
          0,
          0,
          0,
          0,
          0,
          0,
          0,
          0,
          0,
          0,
          0,
          0,
          0,
          0,
          0,
          0,
          0,
          0,
          0,
          0,
          0,
          0,
          0,
          0,
          0,
          0,
          0,
          0,
          0,
          0,
          0,
          0,
          0,
          0,
          0,
          0,
          0,
          0,
          0,
          0,
          0,
          0,
          0,
          0,
          0,
          0,
          0,
          0,
          0,
          0,
          0,
          0,
          0,
          0,
          0,
          0,
          0,
          0,
          0,
          0,
          0,
          0,
          0,
          0,
          0,
          0,
          0,
          0,
          0,
          0,
          0,
          0,
          0,
          0,
          0,
          0,
          0,
          0,
          0,
          0
         ],
         "y": [
          0.00004212781641399488,
          0.000046989847760414705,
          0.00005553051960305311,
          0.00006210641731740907,
          0.00008513846842106432,
          0.00010874951840378344,
          0.00012296868953853846,
          0.00013872604176867753,
          0.00014825252583250403,
          0.0001512170274509117,
          0.0001590855827089399,
          0.00016032633720897138,
          0.00016479934856761247,
          0.00016884556680452079,
          0.00017395334725733846,
          0.00018618044850882143,
          0.0002060936822090298,
          0.00023014878388494253,
          0.00024406042939517647,
          0.0002882126427721232,
          0.00030980625888332725,
          0.00032561601256020367,
          0.0003339294053148478,
          0.0003815664385911077,
          0.0003869262000080198,
          0.0003926765057258308,
          0.00039428682066500187,
          0.0003988271055277437,
          0.00042106822365894914,
          0.00042304012458771467,
          0.00042634509736672044,
          0.0004340964660514146,
          0.0004358361184131354,
          0.0004461970820557326,
          0.00044886505929753184,
          0.0004531957092694938,
          0.00046372765791602433,
          0.0004746643244288862,
          0.0004851815174333751,
          0.0004873921861872077,
          0.0004894931917078793,
          0.0005070875631645322,
          0.0005180235602892935,
          0.0005439700908027589,
          0.0005501689738593996,
          0.0005545252934098244,
          0.000557240447960794,
          0.0005918638198636472,
          0.0005973291699774563,
          0.0006042656605131924,
          0.0006225942051969469,
          0.000630210037343204,
          0.0006420494173653424,
          0.0006446662591770291,
          0.0006464744219556451,
          0.0006572182755917311,
          0.0006959905149415135,
          0.0006980871548876166,
          0.0007135949563235044,
          0.0007142957765609026,
          0.000719078816473484,
          0.0007259593112394214,
          0.0007411611150018871,
          0.0007570629823021591,
          0.0007617342052981257,
          0.0007780171581543982,
          0.000785604992415756,
          0.0007872515707276762,
          0.000832364778034389,
          0.000838620588183403,
          0.0008410351001657546,
          0.0008473490015603602,
          0.0008631643722765148,
          0.0008714896976016462,
          0.0008734482689760625,
          0.0008771387510932982,
          0.0008831632439978421,
          0.0008858100045472383,
          0.0008922367705963552,
          0.0008977653924375772,
          0.0008981456630863249,
          0.00090695486869663,
          0.0009083610493689775,
          0.0009230163414031267,
          0.0009369810577481985,
          0.000937743519898504,
          0.0009425550815649331,
          0.0009427816257812083,
          0.0009454254759475589,
          0.000945894222240895,
          0.0009655492031015456,
          0.0009788109455257654,
          0.0009810702176764607,
          0.0009817888494580984,
          0.0009846979519352317,
          0.0009969937382265925,
          0.0010050219716504216,
          0.0010099945357069373,
          0.0010249160695821047,
          0.0010710773058235645,
          0.0010767136700451374,
          0.0010812596883624792,
          0.0010965908877551556,
          0.0011097020469605923,
          0.0011116409441456199,
          0.0011275977594777942,
          0.0011354208691045642,
          0.0011379646603018045,
          0.001139248488470912,
          0.0011425740085542202,
          0.0011535267112776637,
          0.0011537089012563229,
          0.0011540638515725732,
          0.0011739054461941123,
          0.0011785014066845179,
          0.0011817804770544171,
          0.001186028472147882,
          0.0011928112944588065,
          0.0011929323663935065,
          0.001214527408592403,
          0.0012197443284094334,
          0.001238671480678022,
          0.00124452356249094,
          0.0012581178452819586,
          0.0012642329093068838,
          0.0012762924889102578,
          0.0012839180417358875,
          0.0012903984170407057,
          0.0012979134917259216,
          0.0013057690812274814,
          0.0013491236604750156,
          0.0013498759362846613,
          0.0013599027879536152,
          0.0013604398118332028,
          0.0013636047951877117,
          0.0013645211001858115,
          0.0014075885992497206,
          0.0014082054840400815,
          0.0014274525456130505,
          0.0014374597230926156,
          0.001447945018298924,
          0.0014560831477865577,
          0.001456649973988533,
          0.0014671710086986423,
          0.0014877598732709885,
          0.0014982364373281598,
          0.0015149377286434174,
          0.0015164691722020507,
          0.0015288948779925704,
          0.00155174033716321,
          0.0015661914367228746,
          0.0015947921201586723,
          0.001617654226720333,
          0.001619590912014246,
          0.001619927235879004,
          0.0016238726675510406,
          0.0016241265693679452,
          0.001633653650060296,
          0.0016359009314328432,
          0.0016442573396489024,
          0.001657359767705202,
          0.0016656805528327823,
          0.0016658753156661987,
          0.0016769319772720337,
          0.0017039997037500143,
          0.0017163060838356614,
          0.0017399691278114915,
          0.0017476360080763698,
          0.001750857220031321,
          0.001759050413966179,
          0.0017640781588852406,
          0.0017687265062704682,
          0.0017922623082995415,
          0.0018222801154479384,
          0.0018470484064891934,
          0.001861816504970193,
          0.0018692158628255129,
          0.0018743843538686633,
          0.0018924861215054989,
          0.0019063844811171293,
          0.001918453723192215,
          0.0020280436147004366,
          0.0020308904349803925,
          0.0020683584734797478,
          0.0021033245138823986,
          0.002157834591343999,
          0.0021590557880699635,
          0.0022555559407919645,
          0.0022851922549307346,
          0.0022978803608566523,
          0.0023047886788845062,
          0.0023110671900212765,
          0.0023311360273510218,
          0.0023442143574357033,
          0.0023700441233813763,
          0.0023787093814462423,
          0.002396989380940795,
          0.0024260072968900204,
          0.002447847742587328,
          0.002453573513776064,
          0.002482085255905986,
          0.0024908368941396475,
          0.0025746263563632965,
          0.0025968255940824747,
          0.002600504085421562,
          0.002606805181130767,
          0.0026289373636245728,
          0.002717519411817193,
          0.002800051588565111,
          0.002846761839464307,
          0.0028531518764793873,
          0.002920120256021619,
          0.0029593179933726788,
          0.00297518796287477,
          0.0030077595729380846,
          0.0030151978135108948,
          0.003030125517398119,
          0.0030388531740754843,
          0.0030527005437761545,
          0.0030795857310295105,
          0.0031126111280173063,
          0.003114578779786825,
          0.003121910849586129,
          0.0031489490065723658,
          0.0032343158964067698,
          0.0032537374645471573,
          0.0033668456599116325,
          0.003374530700966716,
          0.0035142148844897747,
          0.003526363056153059,
          0.003546994412317872,
          0.003615033347159624,
          0.0036303994711488485,
          0.003667291486635804,
          0.0037015166599303484,
          0.0037699323147535324,
          0.0037888174410909414,
          0.0038357749581336975,
          0.0038510363083332777,
          0.003886609571054578,
          0.003918963484466076,
          0.003926611039787531,
          0.0039371307939291,
          0.003939134534448385,
          0.003965587820857763,
          0.003973080310970545,
          0.004003729671239853,
          0.004036570433527231,
          0.004116510506719351,
          0.004121231846511364,
          0.0041707586497068405,
          0.004184373188763857,
          0.004227090626955032,
          0.0042300838977098465,
          0.004281149245798588,
          0.004292286932468414,
          0.004361492116004229,
          0.004391158930957317,
          0.004509296268224716,
          0.004515025299042463,
          0.004521816037595272,
          0.004611917771399021,
          0.0046544149518013,
          0.004672095645219088,
          0.004763034638017416,
          0.0047716060653328896,
          0.004796352703124285,
          0.004959167912602425,
          0.004966902546584606,
          0.004975871182978153,
          0.005081993993371725,
          0.005167354829609394,
          0.005287442822009325,
          0.005296967923641205,
          0.005371025763452053,
          0.005399151239544153,
          0.0054182372987270355,
          0.0054771872237324715,
          0.005516591016203165,
          0.005538518540561199,
          0.005551198497414589,
          0.005593375768512487,
          0.005669903941452503,
          0.005756042897701263,
          0.005768053699284792,
          0.005858810152858496,
          0.0059580374509096146,
          0.0059652989730238914,
          0.005978473927825689,
          0.006025396753102541,
          0.0060917166993021965,
          0.006126806605607271,
          0.006227872334420681,
          0.0062833866104483604,
          0.00629224069416523,
          0.0064820051193237305,
          0.006485363002866507,
          0.006504549644887447,
          0.00653420202434063,
          0.006655339617282152,
          0.006784075405448675,
          0.007026201114058495,
          0.007189920172095299,
          0.0073227002285420895,
          0.007341018412262201,
          0.007388611324131489,
          0.0074021341279149055,
          0.0074302093125879765,
          0.007824762724339962,
          0.007852969691157341,
          0.007873738184571266,
          0.007942772470414639,
          0.00806058757007122,
          0.008064758963882923,
          0.008172293193638325,
          0.008210394531488419,
          0.008256669156253338,
          0.008344006724655628,
          0.008467172272503376,
          0.008518592454493046,
          0.008533426560461521,
          0.008577627129852772,
          0.008638003841042519,
          0.008789414539933205,
          0.008875959552824497,
          0.008926278911530972,
          0.009027266874909401,
          0.009067039005458355,
          0.009082254953682423,
          0.00909876823425293,
          0.009237807244062424,
          0.009565915912389755,
          0.009620034135878086,
          0.009911665692925453,
          0.009968187659978867,
          0.01010036375373602,
          0.010136487893760204,
          0.010160176083445549,
          0.01029740460216999,
          0.010320911183953285,
          0.010354378260672092,
          0.01040149386972189,
          0.010435842908918858,
          0.010483818128705025,
          0.010651446878910065,
          0.010659517720341682,
          0.010883943177759647,
          0.01106902863830328,
          0.01110323891043663,
          0.011140299960970879,
          0.011319497600197792,
          0.011379806324839592,
          0.011553147807717323,
          0.011688927188515663,
          0.011824867688119411,
          0.011878445744514465,
          0.01198356319218874,
          0.012032506987452507,
          0.01229363027960062,
          0.012341379188001156,
          0.012735933996737003,
          0.012817982584238052,
          0.01312869694083929,
          0.013244948349893093,
          0.013246824033558369,
          0.013579297810792923,
          0.014054968021810055,
          0.014055774547159672,
          0.014317834749817848,
          0.014320175163447857,
          0.014436319470405579,
          0.014625723473727703,
          0.014833291061222553,
          0.014905792661011219,
          0.01514451578259468,
          0.015204829163849354,
          0.015282278880476952,
          0.0157669335603714,
          0.015980452299118042,
          0.01623510755598545,
          0.01646510325372219,
          0.01649768464267254,
          0.016606081277132034,
          0.016849840059876442,
          0.017138982191681862,
          0.01733359880745411,
          0.017849331721663475,
          0.01801317371428013,
          0.018075741827487946,
          0.018164902925491333,
          0.018332436680793762,
          0.018645308911800385,
          0.01886346936225891,
          0.0188735518604517,
          0.018907619640231133,
          0.019697848707437515,
          0.019819173961877823,
          0.019865846261382103,
          0.02019592933356762,
          0.020715784281492233,
          0.020723892375826836,
          0.0212977547198534,
          0.021433573216199875,
          0.02161547914147377,
          0.022349802777171135,
          0.022475523874163628,
          0.022932128980755806,
          0.0239426102489233,
          0.02407670021057129,
          0.024742258712649345,
          0.0256011001765728,
          0.025829385966062546,
          0.026130670681595802,
          0.026131758466362953,
          0.02657214365899563,
          0.027216164395213127,
          0.0288186464458704,
          0.02890883758664131,
          0.029421323910355568,
          0.029438434168696404,
          0.029521510004997253,
          0.029978035017848015,
          0.030131159350275993,
          0.03031357005238533,
          0.0307993795722723,
          0.0308352243155241,
          0.031221039593219757,
          0.03204335272312164,
          0.03217524662613869,
          0.03219645097851753,
          0.032654616981744766,
          0.032798442989587784,
          0.03333259001374245,
          0.03336446359753609,
          0.03383578360080719,
          0.03429875895380974,
          0.03467202186584473,
          0.036450255662202835,
          0.03663188964128494,
          0.03907857835292816,
          0.0397307462990284,
          0.04031667858362198,
          0.04109598696231842,
          0.0413721539080143,
          0.04149845615029335,
          0.042397625744342804,
          0.04280536621809006,
          0.04288681969046593,
          0.043178997933864594,
          0.04327106475830078,
          0.04331560432910919,
          0.04339440166950226,
          0.043852299451828,
          0.044849202036857605,
          0.045722633600234985,
          0.04582572355866432,
          0.047660116106271744,
          0.047860629856586456,
          0.048078957945108414,
          0.05049954354763031,
          0.05088523402810097,
          0.05173037573695183,
          0.05375875160098076,
          0.05555146187543869,
          0.05629580095410347,
          0.056928422302007675,
          0.059323620051145554,
          0.05966639891266823,
          0.06041891500353813,
          0.06101125478744507,
          0.06120578944683075,
          0.06362573802471161,
          0.0712747648358345,
          0.07267171144485474,
          0.07416702806949615,
          0.07421436160802841,
          0.07764360308647156,
          0.07922002673149109,
          0.08184225857257843,
          0.08298507332801819,
          0.0843682661652565,
          0.08529072254896164,
          0.08683321624994278,
          0.09160116314888,
          0.09294864535331726,
          0.10125406086444855,
          0.10277272760868073,
          0.10887054353952408,
          0.11415848135948181,
          0.11513305455446243,
          0.11729216575622559,
          0.11837754398584366,
          0.1304706186056137,
          0.13147695362567902,
          0.13583128154277802,
          0.14182808995246887,
          0.15479177236557007,
          0.16719289124011993,
          0.18132257461547852
         ]
        },
        {
         "hoverinfo": "text",
         "hovertext": [
          "(0.44191768765449524, 0.4756295084953308)",
          "(0.3174591362476349, 0.35984179377555847)",
          "(0.30402493476867676, 0.3270532190799713)",
          "(0.2944931387901306, 0.30482038855552673)",
          "(0.2931884825229645, 0.3625834286212921)",
          "(0.29135969281196594, 0.2957133650779724)",
          "(0.2774203419685364, 0.32896435260772705)",
          "(0.27657702565193176, 0.2830377221107483)",
          "(0.2392304539680481, 0.3253903388977051)",
          "(0.21993772685527802, 0.25487908720970154)",
          "(0.2141774594783783, 0.2441396415233612)",
          "(0.21232423186302185, 0.25365906953811646)",
          "(0.204293891787529, 0.25930336117744446)",
          "(0.19153955578804016, 0.23675735294818878)",
          "(0.17770229279994965, 0.21874117851257324)",
          "(0.17207983136177063, 0.2225656658411026)",
          "(0.16602259874343872, 0.6700628995895386)",
          "(0.1514892876148224, 0.168587788939476)",
          "(0.14155800640583038, 0.14718182384967804)",
          "(0.1375942975282669, 0.16890057921409607)",
          "(0.12561731040477753, 0.1850164383649826)",
          "(0.12361624091863632, 0.13427090644836426)",
          "(0.12323920428752899, 0.1349160224199295)",
          "(0.1123853400349617, 0.2118094116449356)",
          "(0.11217325180768967, 0.13420917093753815)",
          "(0.10438579320907593, 0.1426888108253479)",
          "(0.10329464823007584, 0.14613258838653564)",
          "(0.10309360921382904, 0.10914196074008942)",
          "(0.10307925939559937, 0.11446291953325272)",
          "(0.09580355882644653, 0.09636592119932175)",
          "(0.09527075290679932, 0.09794886410236359)",
          "(0.08612023293972015, 0.09612523764371872)",
          "(0.08564121276140213, 0.09742730855941772)",
          "(0.085090771317482, 0.08824446052312851)",
          "(0.07838231325149536, 0.09734316915273666)",
          "(0.07798915356397629, 0.10181251913309097)",
          "(0.0752498060464859, 0.12598402798175812)",
          "(0.07297486066818237, 0.0744541585445404)",
          "(0.06881372630596161, 0.07012096047401428)",
          "(0.052493371069431305, 0.07152930647134781)",
          "(0.05126255005598068, 0.06091167405247688)",
          "(0.050144635140895844, 0.053228959441185)",
          "(0.04808735474944115, 0.05041348934173584)",
          "(0.04350057989358902, 0.061469051986932755)",
          "(0.0376412458717823, 0.04651585966348648)",
          "(0.037461332976818085, 0.043097347021102905)",
          "(0.03717968985438347, 0.03960046544671059)",
          "(0.033044081181287766, 0.03467773273587227)",
          "(0.03285632282495499, 0.03734307736158371)",
          "(0.031112918630242348, 0.045386068522930145)",
          "(0.028860408812761307, 0.029397156089544296)",
          "(0.027816247195005417, 0.039080265909433365)",
          "(0.027534594759345055, 0.0278884656727314)",
          "(0.027392448857426643, 0.03340690955519676)",
          "(0.02692599780857563, 0.028652772307395935)",
          "(0.025941399857401848, 0.04448460042476654)",
          "(0.021955329924821854, 0.025758331641554832)",
          "(0.021671084687113762, 0.02211114764213562)",
          "(0.02163437381386757, 0.022941352799534798)",
          "(0.02043796516954899, 0.02434152364730835)",
          "(0.019236527383327484, 0.031002214178442955)",
          "(0.018725167959928513, 0.030507754534482956)",
          "(0.018193507567048073, 0.02176566608250141)",
          "(0.01783120632171631, 0.020679671317338943)",
          "(0.016515297815203667, 0.01656491681933403)",
          "(0.01640876568853855, 0.029047738760709763)",
          "(0.01615682989358902, 0.023038823157548904)",
          "(0.01575780101120472, 0.03100591152906418)",
          "(0.014766634441912174, 0.0160321407020092)",
          "(0.013328018598258495, 0.014127339236438274)",
          "(0.01330120675265789, 0.017964377999305725)",
          "(0.012858561240136623, 0.014411835931241512)",
          "(0.011895345523953438, 0.012557762674987316)",
          "(0.011866436339914799, 0.015577802434563637)",
          "(0.011677070520818233, 0.012557762674987316)",
          "(0.011373516172170639, 0.016818560659885406)",
          "(0.01125271711498499, 0.011653942056000233)",
          "(0.011020286940038204, 0.011022727005183697)",
          "(0.01039096899330616, 0.010413418523967266)",
          "(0.010298951528966427, 0.010308989323675632)",
          "(0.010187690146267414, 0.010988356545567513)",
          "(0.009822053834795952, 0.010028155520558357)",
          "(0.009760252200067043, 0.013087988831102848)",
          "(0.009719486348330975, 0.010095134377479553)",
          "(0.009716302156448364, 0.012737100012600422)",
          "(0.00967203825712204, 0.011309711262583733)",
          "(0.009527419693768024, 0.010171712376177311)",
          "(0.009502670727670193, 0.010414683260023594)",
          "(0.009473123587667942, 0.010131454095244408)",
          "(0.009455847553908825, 0.011355926282703876)",
          "(0.009206237271428108, 0.00996428169310093)",
          "(0.009075365960597992, 0.009674527682363987)",
          "(0.008824460208415985, 0.016781199723482132)",
          "(0.008612294681370258, 0.008689530193805695)",
          "(0.00855516642332077, 0.009500020183622837)",
          "(0.008497284725308418, 0.012838705442845821)",
          "(0.00849032960832119, 0.008672812022268772)",
          "(0.00837152823805809, 0.010544835589826107)",
          "(0.008335634134709835, 0.012143881991505623)",
          "(0.007894700393080711, 0.008006724528968334)",
          "(0.007660945411771536, 0.011799492873251438)",
          "(0.007513773627579212, 0.009857714176177979)",
          "(0.0072904000990092754, 0.012442748993635178)",
          "(0.007193395402282476, 0.008294349536299706)",
          "(0.006864724215120077, 0.007376791909337044)",
          "(0.006812829524278641, 0.009088574908673763)",
          "(0.006517691537737846, 0.008428754284977913)",
          "(0.006101291626691818, 0.007022914942353964)",
          "(0.005983672570437193, 0.008996869437396526)",
          "(0.005867209751158953, 0.0065567088313400745)",
          "(0.005478345323354006, 0.0064658522605896)",
          "(0.005346029531210661, 0.006266836542636156)",
          "(0.004858875181525946, 0.0058350348845124245)",
          "(0.004818215034902096, 0.006814430467784405)",
          "(0.004731701221317053, 0.00550652714446187)",
          "(0.004727872088551521, 0.009682838805019855)",
          "(0.004375093150883913, 0.005448071286082268)",
          "(0.004240315407514572, 0.007319451309740543)",
          "(0.0041361646726727486, 0.005585217382758856)",
          "(0.004115131683647633, 0.005286454688757658)",
          "(0.004086344037204981, 0.005527894478291273)",
          "(0.004019745625555515, 0.005081063602119684)",
          "(0.0038207366596907377, 0.004317902494221926)",
          "(0.003723805770277977, 0.0039154961705207825)",
          "(0.0035160935949534178, 0.004715331364423037)",
          "(0.0034765838645398617, 0.004533798899501562)",
          "(0.003374141873791814, 0.0045770518481731415)",
          "(0.003294141497462988, 0.003321646014228463)",
          "(0.0032529979944229126, 0.004248474258929491)",
          "(0.0031339044217020273, 0.003683666465803981)",
          "(0.003079858375713229, 0.003505384549498558)",
          "(0.003025070996955037, 0.0039239744655787945)",
          "(0.002680000150576234, 0.0027971607632935047)",
          "(0.0026378638576716185, 0.0029635808896273375)",
          "(0.0025921401102095842, 0.0026064510457217693)",
          "(0.0025499172043055296, 0.003699082415550947)",
          "(0.0023524858988821507, 0.003380517940968275)",
          "(0.0021496249828487635, 0.0023324848152697086)",
          "(0.0021213239524513483, 0.0024078888818621635)",
          "(0.0020597721450030804, 0.0028435292188078165)",
          "(0.002027312759310007, 0.002074069809168577)",
          "(0.0018994059646502137, 0.0021867570467293262)",
          "(0.0018749351147562265, 0.0019485170487314463)",
          "(0.0017732686828821898, 0.0018884611781686544)",
          "(0.0016951245488598943, 0.0026243594475090504)",
          "(0.0015805676812306046, 0.0024677510373294353)",
          "(0.0014780494384467602, 0.0016535335453227162)",
          "(0.0014603628078475595, 0.0016880264738574624)",
          "(0.0014497267547994852, 0.001557652372866869)",
          "(0.0014085652073845267, 0.0021431013010442257)",
          "(0.001388820237480104, 0.0019933965522795916)",
          "(0.0011628640349954367, 0.0011956337839365005)",
          "(0.0009962543845176697, 0.0017221021698787808)",
          "(0.0009064511395990849, 0.0009165934170596302)",
          "(0.000879549072124064, 0.0009272308088839054)",
          "(0.0008279613102786243, 0.0010701181599870324)",
          "(0.0007168299052864313, 0.0009173871367238462)"
         ],
         "mode": "markers",
         "name": "H1",
         "type": "scatter",
         "x": [
          0.44191768765449524,
          0.3174591362476349,
          0.30402493476867676,
          0.2944931387901306,
          0.2931884825229645,
          0.29135969281196594,
          0.2774203419685364,
          0.27657702565193176,
          0.2392304539680481,
          0.21993772685527802,
          0.2141774594783783,
          0.21232423186302185,
          0.204293891787529,
          0.19153955578804016,
          0.17770229279994965,
          0.17207983136177063,
          0.16602259874343872,
          0.1514892876148224,
          0.14155800640583038,
          0.1375942975282669,
          0.12561731040477753,
          0.12361624091863632,
          0.12323920428752899,
          0.1123853400349617,
          0.11217325180768967,
          0.10438579320907593,
          0.10329464823007584,
          0.10309360921382904,
          0.10307925939559937,
          0.09580355882644653,
          0.09527075290679932,
          0.08612023293972015,
          0.08564121276140213,
          0.085090771317482,
          0.07838231325149536,
          0.07798915356397629,
          0.0752498060464859,
          0.07297486066818237,
          0.06881372630596161,
          0.052493371069431305,
          0.05126255005598068,
          0.050144635140895844,
          0.04808735474944115,
          0.04350057989358902,
          0.0376412458717823,
          0.037461332976818085,
          0.03717968985438347,
          0.033044081181287766,
          0.03285632282495499,
          0.031112918630242348,
          0.028860408812761307,
          0.027816247195005417,
          0.027534594759345055,
          0.027392448857426643,
          0.02692599780857563,
          0.025941399857401848,
          0.021955329924821854,
          0.021671084687113762,
          0.02163437381386757,
          0.02043796516954899,
          0.019236527383327484,
          0.018725167959928513,
          0.018193507567048073,
          0.01783120632171631,
          0.016515297815203667,
          0.01640876568853855,
          0.01615682989358902,
          0.01575780101120472,
          0.014766634441912174,
          0.013328018598258495,
          0.01330120675265789,
          0.012858561240136623,
          0.011895345523953438,
          0.011866436339914799,
          0.011677070520818233,
          0.011373516172170639,
          0.01125271711498499,
          0.011020286940038204,
          0.01039096899330616,
          0.010298951528966427,
          0.010187690146267414,
          0.009822053834795952,
          0.009760252200067043,
          0.009719486348330975,
          0.009716302156448364,
          0.00967203825712204,
          0.009527419693768024,
          0.009502670727670193,
          0.009473123587667942,
          0.009455847553908825,
          0.009206237271428108,
          0.009075365960597992,
          0.008824460208415985,
          0.008612294681370258,
          0.00855516642332077,
          0.008497284725308418,
          0.00849032960832119,
          0.00837152823805809,
          0.008335634134709835,
          0.007894700393080711,
          0.007660945411771536,
          0.007513773627579212,
          0.0072904000990092754,
          0.007193395402282476,
          0.006864724215120077,
          0.006812829524278641,
          0.006517691537737846,
          0.006101291626691818,
          0.005983672570437193,
          0.005867209751158953,
          0.005478345323354006,
          0.005346029531210661,
          0.004858875181525946,
          0.004818215034902096,
          0.004731701221317053,
          0.004727872088551521,
          0.004375093150883913,
          0.004240315407514572,
          0.0041361646726727486,
          0.004115131683647633,
          0.004086344037204981,
          0.004019745625555515,
          0.0038207366596907377,
          0.003723805770277977,
          0.0035160935949534178,
          0.0034765838645398617,
          0.003374141873791814,
          0.003294141497462988,
          0.0032529979944229126,
          0.0031339044217020273,
          0.003079858375713229,
          0.003025070996955037,
          0.002680000150576234,
          0.0026378638576716185,
          0.0025921401102095842,
          0.0025499172043055296,
          0.0023524858988821507,
          0.0021496249828487635,
          0.0021213239524513483,
          0.0020597721450030804,
          0.002027312759310007,
          0.0018994059646502137,
          0.0018749351147562265,
          0.0017732686828821898,
          0.0016951245488598943,
          0.0015805676812306046,
          0.0014780494384467602,
          0.0014603628078475595,
          0.0014497267547994852,
          0.0014085652073845267,
          0.001388820237480104,
          0.0011628640349954367,
          0.0009962543845176697,
          0.0009064511395990849,
          0.000879549072124064,
          0.0008279613102786243,
          0.0007168299052864313
         ],
         "y": [
          0.4756295084953308,
          0.35984179377555847,
          0.3270532190799713,
          0.30482038855552673,
          0.3625834286212921,
          0.2957133650779724,
          0.32896435260772705,
          0.2830377221107483,
          0.3253903388977051,
          0.25487908720970154,
          0.2441396415233612,
          0.25365906953811646,
          0.25930336117744446,
          0.23675735294818878,
          0.21874117851257324,
          0.2225656658411026,
          0.6700628995895386,
          0.168587788939476,
          0.14718182384967804,
          0.16890057921409607,
          0.1850164383649826,
          0.13427090644836426,
          0.1349160224199295,
          0.2118094116449356,
          0.13420917093753815,
          0.1426888108253479,
          0.14613258838653564,
          0.10914196074008942,
          0.11446291953325272,
          0.09636592119932175,
          0.09794886410236359,
          0.09612523764371872,
          0.09742730855941772,
          0.08824446052312851,
          0.09734316915273666,
          0.10181251913309097,
          0.12598402798175812,
          0.0744541585445404,
          0.07012096047401428,
          0.07152930647134781,
          0.06091167405247688,
          0.053228959441185,
          0.05041348934173584,
          0.061469051986932755,
          0.04651585966348648,
          0.043097347021102905,
          0.03960046544671059,
          0.03467773273587227,
          0.03734307736158371,
          0.045386068522930145,
          0.029397156089544296,
          0.039080265909433365,
          0.0278884656727314,
          0.03340690955519676,
          0.028652772307395935,
          0.04448460042476654,
          0.025758331641554832,
          0.02211114764213562,
          0.022941352799534798,
          0.02434152364730835,
          0.031002214178442955,
          0.030507754534482956,
          0.02176566608250141,
          0.020679671317338943,
          0.01656491681933403,
          0.029047738760709763,
          0.023038823157548904,
          0.03100591152906418,
          0.0160321407020092,
          0.014127339236438274,
          0.017964377999305725,
          0.014411835931241512,
          0.012557762674987316,
          0.015577802434563637,
          0.012557762674987316,
          0.016818560659885406,
          0.011653942056000233,
          0.011022727005183697,
          0.010413418523967266,
          0.010308989323675632,
          0.010988356545567513,
          0.010028155520558357,
          0.013087988831102848,
          0.010095134377479553,
          0.012737100012600422,
          0.011309711262583733,
          0.010171712376177311,
          0.010414683260023594,
          0.010131454095244408,
          0.011355926282703876,
          0.00996428169310093,
          0.009674527682363987,
          0.016781199723482132,
          0.008689530193805695,
          0.009500020183622837,
          0.012838705442845821,
          0.008672812022268772,
          0.010544835589826107,
          0.012143881991505623,
          0.008006724528968334,
          0.011799492873251438,
          0.009857714176177979,
          0.012442748993635178,
          0.008294349536299706,
          0.007376791909337044,
          0.009088574908673763,
          0.008428754284977913,
          0.007022914942353964,
          0.008996869437396526,
          0.0065567088313400745,
          0.0064658522605896,
          0.006266836542636156,
          0.0058350348845124245,
          0.006814430467784405,
          0.00550652714446187,
          0.009682838805019855,
          0.005448071286082268,
          0.007319451309740543,
          0.005585217382758856,
          0.005286454688757658,
          0.005527894478291273,
          0.005081063602119684,
          0.004317902494221926,
          0.0039154961705207825,
          0.004715331364423037,
          0.004533798899501562,
          0.0045770518481731415,
          0.003321646014228463,
          0.004248474258929491,
          0.003683666465803981,
          0.003505384549498558,
          0.0039239744655787945,
          0.0027971607632935047,
          0.0029635808896273375,
          0.0026064510457217693,
          0.003699082415550947,
          0.003380517940968275,
          0.0023324848152697086,
          0.0024078888818621635,
          0.0028435292188078165,
          0.002074069809168577,
          0.0021867570467293262,
          0.0019485170487314463,
          0.0018884611781686544,
          0.0026243594475090504,
          0.0024677510373294353,
          0.0016535335453227162,
          0.0016880264738574624,
          0.001557652372866869,
          0.0021431013010442257,
          0.0019933965522795916,
          0.0011956337839365005,
          0.0017221021698787808,
          0.0009165934170596302,
          0.0009272308088839054,
          0.0010701181599870324,
          0.0009173871367238462
         ]
        },
        {
         "hoverinfo": "text",
         "hovertext": [
          "(1.027207851409912, 1.1083061695098877)",
          "(0.9418762922286987, 0.9540354013442993)",
          "(0.8999984264373779, 1.1324983835220337)",
          "(0.5610166788101196, 0.571532666683197)",
          "(0.2122776359319687, 0.21533288061618805)",
          "(0.07689933478832245, 0.077095165848732)",
          "(0.07678944617509842, 0.08312372863292694)",
          "(0.04660292714834213, 0.05994168668985367)",
          "(0.04634956270456314, 0.05134622007608414)",
          "(0.0423210933804512, 0.04308340698480606)",
          "(0.04026661813259125, 0.04856940358877182)",
          "(0.03291065990924835, 0.03393394872546196)",
          "(0.020888781175017357, 0.025704780593514442)",
          "(0.011582859791815281, 0.012303575873374939)",
          "(0.01153567899018526, 0.011561078019440174)",
          "(0.0108572319149971, 0.010950901545584202)",
          "(0.0070373304188251495, 0.007175759878009558)"
         ],
         "mode": "markers",
         "name": "H2",
         "type": "scatter",
         "x": [
          1.027207851409912,
          0.9418762922286987,
          0.8999984264373779,
          0.5610166788101196,
          0.2122776359319687,
          0.07689933478832245,
          0.07678944617509842,
          0.04660292714834213,
          0.04634956270456314,
          0.0423210933804512,
          0.04026661813259125,
          0.03291065990924835,
          0.020888781175017357,
          0.011582859791815281,
          0.01153567899018526,
          0.0108572319149971,
          0.0070373304188251495
         ],
         "y": [
          1.1083061695098877,
          0.9540354013442993,
          1.1324983835220337,
          0.571532666683197,
          0.21533288061618805,
          0.077095165848732,
          0.08312372863292694,
          0.05994168668985367,
          0.05134622007608414,
          0.04308340698480606,
          0.04856940358877182,
          0.03393394872546196,
          0.025704780593514442,
          0.012303575873374939,
          0.011561078019440174,
          0.010950901545584202,
          0.007175759878009558
         ]
        }
       ],
       "layout": {
        "height": 500,
        "plot_bgcolor": "white",
        "template": {
         "data": {
          "bar": [
           {
            "error_x": {
             "color": "#2a3f5f"
            },
            "error_y": {
             "color": "#2a3f5f"
            },
            "marker": {
             "line": {
              "color": "#E5ECF6",
              "width": 0.5
             },
             "pattern": {
              "fillmode": "overlay",
              "size": 10,
              "solidity": 0.2
             }
            },
            "type": "bar"
           }
          ],
          "barpolar": [
           {
            "marker": {
             "line": {
              "color": "#E5ECF6",
              "width": 0.5
             },
             "pattern": {
              "fillmode": "overlay",
              "size": 10,
              "solidity": 0.2
             }
            },
            "type": "barpolar"
           }
          ],
          "carpet": [
           {
            "aaxis": {
             "endlinecolor": "#2a3f5f",
             "gridcolor": "white",
             "linecolor": "white",
             "minorgridcolor": "white",
             "startlinecolor": "#2a3f5f"
            },
            "baxis": {
             "endlinecolor": "#2a3f5f",
             "gridcolor": "white",
             "linecolor": "white",
             "minorgridcolor": "white",
             "startlinecolor": "#2a3f5f"
            },
            "type": "carpet"
           }
          ],
          "choropleth": [
           {
            "colorbar": {
             "outlinewidth": 0,
             "ticks": ""
            },
            "type": "choropleth"
           }
          ],
          "contour": [
           {
            "colorbar": {
             "outlinewidth": 0,
             "ticks": ""
            },
            "colorscale": [
             [
              0,
              "#0d0887"
             ],
             [
              0.1111111111111111,
              "#46039f"
             ],
             [
              0.2222222222222222,
              "#7201a8"
             ],
             [
              0.3333333333333333,
              "#9c179e"
             ],
             [
              0.4444444444444444,
              "#bd3786"
             ],
             [
              0.5555555555555556,
              "#d8576b"
             ],
             [
              0.6666666666666666,
              "#ed7953"
             ],
             [
              0.7777777777777778,
              "#fb9f3a"
             ],
             [
              0.8888888888888888,
              "#fdca26"
             ],
             [
              1,
              "#f0f921"
             ]
            ],
            "type": "contour"
           }
          ],
          "contourcarpet": [
           {
            "colorbar": {
             "outlinewidth": 0,
             "ticks": ""
            },
            "type": "contourcarpet"
           }
          ],
          "heatmap": [
           {
            "colorbar": {
             "outlinewidth": 0,
             "ticks": ""
            },
            "colorscale": [
             [
              0,
              "#0d0887"
             ],
             [
              0.1111111111111111,
              "#46039f"
             ],
             [
              0.2222222222222222,
              "#7201a8"
             ],
             [
              0.3333333333333333,
              "#9c179e"
             ],
             [
              0.4444444444444444,
              "#bd3786"
             ],
             [
              0.5555555555555556,
              "#d8576b"
             ],
             [
              0.6666666666666666,
              "#ed7953"
             ],
             [
              0.7777777777777778,
              "#fb9f3a"
             ],
             [
              0.8888888888888888,
              "#fdca26"
             ],
             [
              1,
              "#f0f921"
             ]
            ],
            "type": "heatmap"
           }
          ],
          "heatmapgl": [
           {
            "colorbar": {
             "outlinewidth": 0,
             "ticks": ""
            },
            "colorscale": [
             [
              0,
              "#0d0887"
             ],
             [
              0.1111111111111111,
              "#46039f"
             ],
             [
              0.2222222222222222,
              "#7201a8"
             ],
             [
              0.3333333333333333,
              "#9c179e"
             ],
             [
              0.4444444444444444,
              "#bd3786"
             ],
             [
              0.5555555555555556,
              "#d8576b"
             ],
             [
              0.6666666666666666,
              "#ed7953"
             ],
             [
              0.7777777777777778,
              "#fb9f3a"
             ],
             [
              0.8888888888888888,
              "#fdca26"
             ],
             [
              1,
              "#f0f921"
             ]
            ],
            "type": "heatmapgl"
           }
          ],
          "histogram": [
           {
            "marker": {
             "pattern": {
              "fillmode": "overlay",
              "size": 10,
              "solidity": 0.2
             }
            },
            "type": "histogram"
           }
          ],
          "histogram2d": [
           {
            "colorbar": {
             "outlinewidth": 0,
             "ticks": ""
            },
            "colorscale": [
             [
              0,
              "#0d0887"
             ],
             [
              0.1111111111111111,
              "#46039f"
             ],
             [
              0.2222222222222222,
              "#7201a8"
             ],
             [
              0.3333333333333333,
              "#9c179e"
             ],
             [
              0.4444444444444444,
              "#bd3786"
             ],
             [
              0.5555555555555556,
              "#d8576b"
             ],
             [
              0.6666666666666666,
              "#ed7953"
             ],
             [
              0.7777777777777778,
              "#fb9f3a"
             ],
             [
              0.8888888888888888,
              "#fdca26"
             ],
             [
              1,
              "#f0f921"
             ]
            ],
            "type": "histogram2d"
           }
          ],
          "histogram2dcontour": [
           {
            "colorbar": {
             "outlinewidth": 0,
             "ticks": ""
            },
            "colorscale": [
             [
              0,
              "#0d0887"
             ],
             [
              0.1111111111111111,
              "#46039f"
             ],
             [
              0.2222222222222222,
              "#7201a8"
             ],
             [
              0.3333333333333333,
              "#9c179e"
             ],
             [
              0.4444444444444444,
              "#bd3786"
             ],
             [
              0.5555555555555556,
              "#d8576b"
             ],
             [
              0.6666666666666666,
              "#ed7953"
             ],
             [
              0.7777777777777778,
              "#fb9f3a"
             ],
             [
              0.8888888888888888,
              "#fdca26"
             ],
             [
              1,
              "#f0f921"
             ]
            ],
            "type": "histogram2dcontour"
           }
          ],
          "mesh3d": [
           {
            "colorbar": {
             "outlinewidth": 0,
             "ticks": ""
            },
            "type": "mesh3d"
           }
          ],
          "parcoords": [
           {
            "line": {
             "colorbar": {
              "outlinewidth": 0,
              "ticks": ""
             }
            },
            "type": "parcoords"
           }
          ],
          "pie": [
           {
            "automargin": true,
            "type": "pie"
           }
          ],
          "scatter": [
           {
            "fillpattern": {
             "fillmode": "overlay",
             "size": 10,
             "solidity": 0.2
            },
            "type": "scatter"
           }
          ],
          "scatter3d": [
           {
            "line": {
             "colorbar": {
              "outlinewidth": 0,
              "ticks": ""
             }
            },
            "marker": {
             "colorbar": {
              "outlinewidth": 0,
              "ticks": ""
             }
            },
            "type": "scatter3d"
           }
          ],
          "scattercarpet": [
           {
            "marker": {
             "colorbar": {
              "outlinewidth": 0,
              "ticks": ""
             }
            },
            "type": "scattercarpet"
           }
          ],
          "scattergeo": [
           {
            "marker": {
             "colorbar": {
              "outlinewidth": 0,
              "ticks": ""
             }
            },
            "type": "scattergeo"
           }
          ],
          "scattergl": [
           {
            "marker": {
             "colorbar": {
              "outlinewidth": 0,
              "ticks": ""
             }
            },
            "type": "scattergl"
           }
          ],
          "scattermapbox": [
           {
            "marker": {
             "colorbar": {
              "outlinewidth": 0,
              "ticks": ""
             }
            },
            "type": "scattermapbox"
           }
          ],
          "scatterpolar": [
           {
            "marker": {
             "colorbar": {
              "outlinewidth": 0,
              "ticks": ""
             }
            },
            "type": "scatterpolar"
           }
          ],
          "scatterpolargl": [
           {
            "marker": {
             "colorbar": {
              "outlinewidth": 0,
              "ticks": ""
             }
            },
            "type": "scatterpolargl"
           }
          ],
          "scatterternary": [
           {
            "marker": {
             "colorbar": {
              "outlinewidth": 0,
              "ticks": ""
             }
            },
            "type": "scatterternary"
           }
          ],
          "surface": [
           {
            "colorbar": {
             "outlinewidth": 0,
             "ticks": ""
            },
            "colorscale": [
             [
              0,
              "#0d0887"
             ],
             [
              0.1111111111111111,
              "#46039f"
             ],
             [
              0.2222222222222222,
              "#7201a8"
             ],
             [
              0.3333333333333333,
              "#9c179e"
             ],
             [
              0.4444444444444444,
              "#bd3786"
             ],
             [
              0.5555555555555556,
              "#d8576b"
             ],
             [
              0.6666666666666666,
              "#ed7953"
             ],
             [
              0.7777777777777778,
              "#fb9f3a"
             ],
             [
              0.8888888888888888,
              "#fdca26"
             ],
             [
              1,
              "#f0f921"
             ]
            ],
            "type": "surface"
           }
          ],
          "table": [
           {
            "cells": {
             "fill": {
              "color": "#EBF0F8"
             },
             "line": {
              "color": "white"
             }
            },
            "header": {
             "fill": {
              "color": "#C8D4E3"
             },
             "line": {
              "color": "white"
             }
            },
            "type": "table"
           }
          ]
         },
         "layout": {
          "annotationdefaults": {
           "arrowcolor": "#2a3f5f",
           "arrowhead": 0,
           "arrowwidth": 1
          },
          "autotypenumbers": "strict",
          "coloraxis": {
           "colorbar": {
            "outlinewidth": 0,
            "ticks": ""
           }
          },
          "colorscale": {
           "diverging": [
            [
             0,
             "#8e0152"
            ],
            [
             0.1,
             "#c51b7d"
            ],
            [
             0.2,
             "#de77ae"
            ],
            [
             0.3,
             "#f1b6da"
            ],
            [
             0.4,
             "#fde0ef"
            ],
            [
             0.5,
             "#f7f7f7"
            ],
            [
             0.6,
             "#e6f5d0"
            ],
            [
             0.7,
             "#b8e186"
            ],
            [
             0.8,
             "#7fbc41"
            ],
            [
             0.9,
             "#4d9221"
            ],
            [
             1,
             "#276419"
            ]
           ],
           "sequential": [
            [
             0,
             "#0d0887"
            ],
            [
             0.1111111111111111,
             "#46039f"
            ],
            [
             0.2222222222222222,
             "#7201a8"
            ],
            [
             0.3333333333333333,
             "#9c179e"
            ],
            [
             0.4444444444444444,
             "#bd3786"
            ],
            [
             0.5555555555555556,
             "#d8576b"
            ],
            [
             0.6666666666666666,
             "#ed7953"
            ],
            [
             0.7777777777777778,
             "#fb9f3a"
            ],
            [
             0.8888888888888888,
             "#fdca26"
            ],
            [
             1,
             "#f0f921"
            ]
           ],
           "sequentialminus": [
            [
             0,
             "#0d0887"
            ],
            [
             0.1111111111111111,
             "#46039f"
            ],
            [
             0.2222222222222222,
             "#7201a8"
            ],
            [
             0.3333333333333333,
             "#9c179e"
            ],
            [
             0.4444444444444444,
             "#bd3786"
            ],
            [
             0.5555555555555556,
             "#d8576b"
            ],
            [
             0.6666666666666666,
             "#ed7953"
            ],
            [
             0.7777777777777778,
             "#fb9f3a"
            ],
            [
             0.8888888888888888,
             "#fdca26"
            ],
            [
             1,
             "#f0f921"
            ]
           ]
          },
          "colorway": [
           "#636efa",
           "#EF553B",
           "#00cc96",
           "#ab63fa",
           "#FFA15A",
           "#19d3f3",
           "#FF6692",
           "#B6E880",
           "#FF97FF",
           "#FECB52"
          ],
          "font": {
           "color": "#2a3f5f"
          },
          "geo": {
           "bgcolor": "white",
           "lakecolor": "white",
           "landcolor": "#E5ECF6",
           "showlakes": true,
           "showland": true,
           "subunitcolor": "white"
          },
          "hoverlabel": {
           "align": "left"
          },
          "hovermode": "closest",
          "mapbox": {
           "style": "light"
          },
          "paper_bgcolor": "white",
          "plot_bgcolor": "#E5ECF6",
          "polar": {
           "angularaxis": {
            "gridcolor": "white",
            "linecolor": "white",
            "ticks": ""
           },
           "bgcolor": "#E5ECF6",
           "radialaxis": {
            "gridcolor": "white",
            "linecolor": "white",
            "ticks": ""
           }
          },
          "scene": {
           "xaxis": {
            "backgroundcolor": "#E5ECF6",
            "gridcolor": "white",
            "gridwidth": 2,
            "linecolor": "white",
            "showbackground": true,
            "ticks": "",
            "zerolinecolor": "white"
           },
           "yaxis": {
            "backgroundcolor": "#E5ECF6",
            "gridcolor": "white",
            "gridwidth": 2,
            "linecolor": "white",
            "showbackground": true,
            "ticks": "",
            "zerolinecolor": "white"
           },
           "zaxis": {
            "backgroundcolor": "#E5ECF6",
            "gridcolor": "white",
            "gridwidth": 2,
            "linecolor": "white",
            "showbackground": true,
            "ticks": "",
            "zerolinecolor": "white"
           }
          },
          "shapedefaults": {
           "line": {
            "color": "#2a3f5f"
           }
          },
          "ternary": {
           "aaxis": {
            "gridcolor": "white",
            "linecolor": "white",
            "ticks": ""
           },
           "baxis": {
            "gridcolor": "white",
            "linecolor": "white",
            "ticks": ""
           },
           "bgcolor": "#E5ECF6",
           "caxis": {
            "gridcolor": "white",
            "linecolor": "white",
            "ticks": ""
           }
          },
          "title": {
           "x": 0.05
          },
          "xaxis": {
           "automargin": true,
           "gridcolor": "white",
           "linecolor": "white",
           "ticks": "",
           "title": {
            "standoff": 15
           },
           "zerolinecolor": "white",
           "zerolinewidth": 2
          },
          "yaxis": {
           "automargin": true,
           "gridcolor": "white",
           "linecolor": "white",
           "ticks": "",
           "title": {
            "standoff": 15
           },
           "zerolinecolor": "white",
           "zerolinewidth": 2
          }
         }
        },
        "width": 500,
        "xaxis": {
         "autorange": false,
         "exponentformat": "e",
         "linecolor": "black",
         "linewidth": 1,
         "mirror": false,
         "range": [
          -0.022649967670440675,
          1.1551483511924743
         ],
         "showexponent": "all",
         "showline": true,
         "side": "bottom",
         "ticks": "outside",
         "title": {
          "text": "Birth"
         },
         "type": "linear",
         "zeroline": true
        },
        "yaxis": {
         "autorange": false,
         "exponentformat": "e",
         "linecolor": "black",
         "linewidth": 1,
         "mirror": false,
         "range": [
          -0.022649967670440675,
          1.1551483511924743
         ],
         "scaleanchor": "x",
         "scaleratio": 1,
         "showexponent": "all",
         "showline": true,
         "side": "left",
         "ticks": "outside",
         "title": {
          "text": "Death"
         },
         "type": "linear",
         "zeroline": true
        }
       }
      }
     },
     "metadata": {},
     "output_type": "display_data"
    }
   ],
   "source": [
    "from gtda.homology import VietorisRipsPersistence\n",
    "from gtda.plotting import plot_diagram\n",
    "\n",
    "VR = VietorisRipsPersistence(metric=\"cosine\", coeff=2, homology_dimensions=[0, 1, 2])\n",
    "diagrams = VR.fit_transform(X_samples[0][None])\n",
    "# diagrams = VR.fit_transform(X_sample_[None])\n",
    "# diagrams = VR.fit_transform(X[None])\n",
    "print(diagrams.shape)\n",
    "\n",
    "plot_diagram(diagrams[0])"
   ]
  },
  {
   "cell_type": "code",
   "execution_count": null,
   "id": "b2db73c5",
   "metadata": {},
   "outputs": [],
   "source": []
  },
  {
   "cell_type": "code",
   "execution_count": 33,
   "id": "d0947dd0",
   "metadata": {},
   "outputs": [],
   "source": [
    "# import gudhi as gd  \n",
    "\n",
    "# skeleton = gd.RipsComplex(\n",
    "#     distance_matrix=X_samples[0], \n",
    "#     max_edge_length=0.7\n",
    "# ) \n",
    "\n",
    "# Rips_simplex_tree = skeleton.create_simplex_tree(max_dimension=2)\n",
    "# BarCodes = Rips_simplex_tree.persistence()"
   ]
  },
  {
   "cell_type": "code",
   "execution_count": 37,
   "id": "5af5d49c",
   "metadata": {},
   "outputs": [],
   "source": [
    "# Rips_simplex_tree.persistence_intervals_in_dimension(0)\n",
    "# # plt.plot(Rips_simplex_tree.persistence_intervals_in_dimension(1))"
   ]
  },
  {
   "cell_type": "code",
   "execution_count": null,
   "id": "3c799d0e",
   "metadata": {},
   "outputs": [],
   "source": []
  },
  {
   "cell_type": "code",
   "execution_count": null,
   "id": "53b97648",
   "metadata": {},
   "outputs": [],
   "source": []
  },
  {
   "cell_type": "code",
   "execution_count": 3,
   "id": "d803f1ae",
   "metadata": {},
   "outputs": [
    {
     "name": "stderr",
     "output_type": "stream",
     "text": [
      "100%|██████████| 29/29 [02:11<00:00,  4.53s/it]\n",
      "/var/folders/v1/1r3cbng93gg6xsx3ghwzpk9c0000gn/T/ipykernel_1745/2707024249.py:12: VisibleDeprecationWarning: Creating an ndarray from ragged nested sequences (which is a list-or-tuple of lists-or-tuples-or ndarrays with different lengths or shapes) is deprecated. If you meant to do this, you must specify 'dtype=object' when creating the ndarray.\n",
      "  explained_variance_ratio_cumsum_vs_energy = np.array(explained_variance_ratio_cumsum_vs_energy)\n"
     ]
    }
   ],
   "source": [
    "from tqdm import tqdm\n",
    "\n",
    "explained_variance_ratio_cumsum_vs_energy = list()\n",
    "\n",
    "for _, data in tqdm(data_dict.items()):\n",
    "    X = create_input_data_vector(data, sample_manifold=False)\n",
    "    explained_variance_ratio = compute_explained_ratio(\n",
    "        X, pre_whitening=True, verbose=False)\n",
    "\n",
    "    explained_variance_ratio_cumsum_vs_energy.append(explained_variance_ratio.cumsum())\n",
    "\n",
    "explained_variance_ratio_cumsum_vs_energy = np.array(explained_variance_ratio_cumsum_vs_energy)"
   ]
  },
  {
   "cell_type": "code",
   "execution_count": 52,
   "id": "7d727598",
   "metadata": {},
   "outputs": [
    {
     "data": {
      "text/plain": [
       "Text(0, 0.5, 'cumsum expl.variance ratio')"
      ]
     },
     "execution_count": 52,
     "metadata": {},
     "output_type": "execute_result"
    },
    {
     "data": {
      "image/png": "[encoded data removed]",
      "text/plain": [
       "<Figure size 640x480 with 1 Axes>"
      ]
     },
     "metadata": {},
     "output_type": "display_data"
    }
   ],
   "source": [
    "fig, ax = plt.subplots(1, 1)\n",
    "\n",
    "lim = 100\n",
    "for x, beta in zip(explained_variance_ratio_cumsum_vs_energy[:lim], beta_range[:lim]):\n",
    "    ax.plot(x, \".-\", label=f\"beta={np.round(beta, 2)}\")\n",
    "    \n",
    "\n",
    "ax.plot(explained_variance_ratio_cumsum_vs_energy[11], \"--\", label=f\"beta={np.round(beta_range[11], 2)}\", color='k')\n",
    "\n",
    "# relabel xaxis\n",
    "# ax.set_xticks(np.arange(1, 30,10))\n",
    "    \n",
    "ax.legend()\n",
    "# ax.set_xlim(0, 10)\n",
    "ax.grid()\n",
    "ax.set_ylabel('cumsum expl.variance ratio')"
   ]
  },
  {
   "cell_type": "code",
   "execution_count": 35,
   "id": "a61214a2",
   "metadata": {},
   "outputs": [
    {
     "name": "stdout",
     "output_type": "stream",
     "text": [
      "1.2000000000000002\n"
     ]
    }
   ],
   "source": [
    "k = list(data_dict.keys())[11]\n",
    "print(k)\n",
    "data = data_dict[k]"
   ]
  },
  {
   "cell_type": "code",
   "execution_count": 36,
   "id": "ad5bd184",
   "metadata": {},
   "outputs": [],
   "source": [
    "# # beta = list(data_dict.keys())[0] # non ergotic\n",
    "# beta = list(data_dict.keys())[-1] # ergotic\n",
    "# print(\"beta=\", beta)\n",
    "\n",
    "# times, q, p, energies = data_dict[beta]"
   ]
  },
  {
   "cell_type": "code",
   "execution_count": 37,
   "id": "ef581b01",
   "metadata": {},
   "outputs": [],
   "source": [
    "# from fput.integrator import FPUT_Integrator\n",
    "\n",
    "# fpu = FPUT_Integrator(\n",
    "#     num_atoms=32,\n",
    "#     num_modes=3,\n",
    "#     initial_mode_number=1,\n",
    "#     initial_mode_amplitude=10,\n",
    "#     t_step=0.5,\n",
    "#     t_max=20000,\n",
    "#     alpha=0.0,\n",
    "#     beta=0.3\n",
    "# )\n",
    "\n",
    "# data = fpu.run(method=\"verlet\")"
   ]
  },
  {
   "cell_type": "code",
   "execution_count": 38,
   "id": "3812ee49",
   "metadata": {},
   "outputs": [
    {
     "name": "stdout",
     "output_type": "stream",
     "text": [
      "Explained variance ratio on all data: [0.4464856  0.2591326  0.14514627 0.06103402 0.04586362]\n"
     ]
    },
    {
     "data": {
      "text/plain": [
       "<matplotlib.legend.Legend at 0x6ea87c760>"
      ]
     },
     "execution_count": 38,
     "metadata": {},
     "output_type": "execute_result"
    },
    {
     "data": {
      "image/png": "[encoded data removed]",
      "text/plain": [
       "<Figure size 640x480 with 1 Axes>"
      ]
     },
     "metadata": {},
     "output_type": "display_data"
    }
   ],
   "source": [
    "X = create_input_data_vector(data)\n",
    "explained_variance_ratio = compute_explained_ratio(X, pre_whitening=False)\n",
    "\n",
    "plt.plot(explained_variance_ratio.cumsum(), \".-\", label=f\"beta={np.round(k, 2)}\")\n",
    "plt.xlim(0, 10)\n",
    "plt.grid()\n",
    "plt.legend()"
   ]
  },
  {
   "cell_type": "code",
   "execution_count": 39,
   "id": "c514c94e",
   "metadata": {},
   "outputs": [
    {
     "data": {
      "text/plain": [
       "[<matplotlib.lines.Line2D at 0x6ec62a340>]"
      ]
     },
     "execution_count": 39,
     "metadata": {},
     "output_type": "execute_result"
    },
    {
     "data": {
      "image/png": "[encoded data removed]",
      "text/plain": [
       "<Figure size 640x480 with 1 Axes>"
      ]
     },
     "metadata": {},
     "output_type": "display_data"
    }
   ],
   "source": [
    "from sklearn.preprocessing import MinMaxScaler\n",
    "from sklearn.preprocessing import StandardScaler\n",
    "\n",
    "_, q, p, energies = data\n",
    "\n",
    "idxs = np.random.choice(p.shape[1], 10000)\n",
    "\n",
    "X = np.concatenate([q[:, idxs], p[:, idxs]], axis=0)\n",
    "X = X[:, :].T\n",
    "\n",
    "# scaler = StandardScaler()\n",
    "# X = scaler.fit_transform(X)\n",
    "\n",
    "plt.plot(X[:, 0], X[:, 32], '.')"
   ]
  },
  {
   "cell_type": "code",
   "execution_count": null,
   "id": "75ef3858",
   "metadata": {},
   "outputs": [],
   "source": []
  },
  {
   "cell_type": "code",
   "execution_count": 40,
   "id": "6b281a86",
   "metadata": {},
   "outputs": [
    {
     "ename": "AttributeError",
     "evalue": "type object 'DOMWidget' has no attribute '_ipython_display_'",
     "output_type": "error",
     "traceback": [
      "\u001b[0;31m---------------------------------------------------------------------------\u001b[0m",
      "\u001b[0;31mAttributeError\u001b[0m                            Traceback (most recent call last)",
      "File \u001b[0;32m~/projects/gionni/40_FPUT/fput/fpuvenv/lib/python3.9/site-packages/IPython/core/formatters.py:920\u001b[0m, in \u001b[0;36mIPythonDisplayFormatter.__call__\u001b[0;34m(self, obj)\u001b[0m\n\u001b[1;32m    918\u001b[0m method \u001b[39m=\u001b[39m get_real_method(obj, \u001b[39mself\u001b[39m\u001b[39m.\u001b[39mprint_method)\n\u001b[1;32m    919\u001b[0m \u001b[39mif\u001b[39;00m method \u001b[39mis\u001b[39;00m \u001b[39mnot\u001b[39;00m \u001b[39mNone\u001b[39;00m:\n\u001b[0;32m--> 920\u001b[0m     method()\n\u001b[1;32m    921\u001b[0m     \u001b[39mreturn\u001b[39;00m \u001b[39mTrue\u001b[39;00m\n",
      "File \u001b[0;32m~/projects/gionni/40_FPUT/fput/fpuvenv/lib/python3.9/site-packages/plotly/basewidget.py:741\u001b[0m, in \u001b[0;36mBaseFigureWidget._ipython_display_\u001b[0;34m(self)\u001b[0m\n\u001b[1;32m    737\u001b[0m \u001b[39m\"\"\"\u001b[39;00m\n\u001b[1;32m    738\u001b[0m \u001b[39mHandle rich display of figures in ipython contexts\u001b[39;00m\n\u001b[1;32m    739\u001b[0m \u001b[39m\"\"\"\u001b[39;00m\n\u001b[1;32m    740\u001b[0m \u001b[39m# Override BaseFigure's display to make sure we display the widget version\u001b[39;00m\n\u001b[0;32m--> 741\u001b[0m widgets\u001b[39m.\u001b[39;49mDOMWidget\u001b[39m.\u001b[39;49m_ipython_display_(\u001b[39mself\u001b[39m)\n",
      "\u001b[0;31mAttributeError\u001b[0m: type object 'DOMWidget' has no attribute '_ipython_display_'"
     ]
    },
    {
     "data": {
      "application/vnd.plotly.v1+json": {
       "config": {
        "plotlyServerURL": "https://plot.ly"
       },
       "data": [
        {
         "hoverinfo": "none",
         "line": {
          "color": "rgb(180,180,180)",
          "width": 1.5
         },
         "mode": "lines",
         "type": "scatter",
         "uid": "2c46430b-8228-49e2-84e2-1aa3b493208f",
         "x": [
          1.5508296710293925,
          1.2105336119985692,
          null,
          1.475661099637671,
          1.2105336119985692,
          null,
          1.2105336119985692,
          0.8119465970432276,
          null,
          0.9361106926375588,
          0.8119465970432276,
          null,
          0.8119465970432276,
          0.4741673829935299,
          null,
          0.8119465970432276,
          0.6643950779822676,
          null,
          0.24376455692008953,
          0.4741673829935299,
          null,
          0.4741673829935299,
          0.24144464526047066,
          null,
          0.24144464526047066,
          -0.11524791617520266,
          null,
          -0.2694739683882304,
          -0.11524791617520266,
          null,
          -0.11524791617520266,
          -0.25889396275008136,
          null,
          -0.11524791617520266,
          -0.4801801707153426,
          null,
          -0.6220535649183062,
          -0.25889396275008136,
          null,
          -0.25889396275008136,
          0.0024916486352452374,
          null,
          -0.25889396275008136,
          -0.413208270644576,
          null,
          0.0024916486352452374,
          -0.12620922537825796,
          null,
          -0.413208270644576,
          -0.12620922537825796,
          null,
          -0.413208270644576,
          -0.7594924580815203,
          null,
          -0.12620922537825796,
          -0.042627792095535924,
          null,
          -0.7594924580815203,
          -0.9879941480356794,
          null,
          -0.9879941480356794,
          -1.050143697869526,
          null,
          -0.042627792095535924,
          -0.138177319586627,
          null,
          -1.050143697869526,
          -1.0231655735125411,
          null,
          -0.138177319586627,
          -0.38938911438620133,
          null,
          -0.38938911438620133,
          -0.7294071408100197,
          null,
          -1.0231655735125411,
          -0.7294071408100197,
          null,
          -1.0231655735125411,
          -1.4259481318329152,
          null,
          -0.7294071408100197,
          -0.6069051301060155,
          null,
          -0.7294071408100197,
          -1.0608360074131473,
          null,
          -0.6069051301060155,
          -0.5218053242273816,
          null,
          -0.5218053242273816,
          -0.4229479136931184,
          null,
          -0.7866889001712168,
          -0.4229479136931184,
          null,
          -0.4229479136931184,
          -0.2721704861921527,
          null,
          -0.4229479136931184,
          -0.05532869281975968,
          null,
          -0.2721704861921527,
          -0.3255198105596298,
          null,
          -0.2721704861921527,
          0.11993339733904579,
          null,
          -0.3255198105596298,
          -0.5376005962605128,
          null,
          -0.3255198105596298,
          0.015213575118622232,
          null,
          -0.5376005962605128,
          -0.8606863424372133,
          null,
          -0.5376005962605128,
          -0.40281534887606935,
          null
         ],
         "y": [
          2.033825437418048,
          2.177591589743859,
          null,
          2.45394641689826,
          2.177591589743859,
          null,
          2.177591589743859,
          2.2185023738471386,
          null,
          2.5455700957614282,
          2.2185023738471386,
          null,
          2.2185023738471386,
          2.016579016607244,
          null,
          2.2185023738471386,
          2.6033556956195723,
          null,
          2.3384398603434104,
          2.016579016607244,
          null,
          2.016579016607244,
          1.7088085235613923,
          null,
          1.7088085235613923,
          1.5167787723065178,
          null,
          1.8268679869315312,
          1.5167787723065178,
          null,
          1.5167787723065178,
          1.1451571381042547,
          null,
          1.5167787723065178,
          1.7376970162733727,
          null,
          1.2894768107470667,
          1.1451571381042547,
          null,
          1.1451571381042547,
          0.8505566421576376,
          null,
          1.1451571381042547,
          0.7817420981039359,
          null,
          0.8505566421576376,
          0.5046655780559016,
          null,
          0.7817420981039359,
          0.5046655780559016,
          null,
          0.7817420981039359,
          0.6018901209013487,
          null,
          0.5046655780559016,
          0.1311754642156569,
          null,
          0.6018901209013487,
          0.29837627459469784,
          null,
          0.29837627459469784,
          -0.07370246634563646,
          null,
          0.1311754642156569,
          -0.23654284106686255,
          null,
          -0.07370246634563646,
          -0.45896683059093535,
          null,
          -0.23654284106686255,
          -0.5305494160284768,
          null,
          -0.5305494160284768,
          -0.7464330078116805,
          null,
          -0.45896683059093535,
          -0.7464330078116805,
          null,
          -0.45896683059093535,
          -0.49770468939170504,
          null,
          -0.7464330078116805,
          -1.1206927386225043,
          null,
          -0.7464330078116805,
          -0.9075736294928082,
          null,
          -1.1206927386225043,
          -1.4853392385941668,
          null,
          -1.4853392385941668,
          -1.8559026158039529,
          null,
          -1.9810832176700495,
          -1.8559026158039529,
          null,
          -1.8559026158039529,
          -2.2210534234171853,
          null,
          -1.8559026158039529,
          -1.7932932218614628,
          null,
          -2.2210534234171853,
          -2.600813807244969,
          null,
          -2.2210534234171853,
          -2.2660722480914424,
          null,
          -2.600813807244969,
          -2.9164393462106593,
          null,
          -2.600813807244969,
          -2.7999442657768525,
          null,
          -2.9164393462106593,
          -3.0913378108945975,
          null,
          -2.9164393462106593,
          -3.2690875788738696,
          null
         ]
        },
        {
         "hoverinfo": "text",
         "marker": {
          "color": [
           0.4977693274945472,
           0.6407640764076408,
           0.49840281141866305,
           0.24522452245224524,
           0.49527822872921734,
           0.6543154315431543,
           0.49780860438985075,
           0.5958595859585959,
           0.49537363674255624,
           0.2961796179617962,
           0.5006015323451647,
           0.6837183718371838,
           0.5053077167013184,
           0.1782178217821782,
           0.5405125878441502,
           0.4964523631369697,
           0.49950731003836324,
           0.5003770594021927,
           0.5162178717871787,
           0.4997790451496342,
           0.5012868457472097,
           0.4968989652588447,
           0.5052671591594478,
           0.5021491732506583,
           0.5115199550115237,
           0.9766976697669767,
           0.49566683659058774,
           0.27142714271427143,
           0.49841557072373904,
           0.7027702770277028,
           0.489149716804441,
           0.6631663166316631,
           0.49097678585062804,
           0.6522652265226523,
           0.4966484508845422,
           0.9463946394639464,
           0.5015930886017895,
           0.0098009800980098,
           0.502754820936639,
           0.9075407540754076
          ],
          "colorbar": {
           "thickness": 20,
           "tickfont": {
            "size": 10
           },
           "ticklen": 4,
           "x": 1.01
          },
          "colorscale": [
           [
            0,
            "rgb(68, 1, 84)"
           ],
           [
            0.1,
            "rgb(72, 35, 116)"
           ],
           [
            0.2,
            "rgb(64, 67, 135)"
           ],
           [
            0.3,
            "rgb(52, 94, 141)"
           ],
           [
            0.4,
            "rgb(41, 120, 142)"
           ],
           [
            0.5,
            "rgb(32, 144, 140)"
           ],
           [
            0.6,
            "rgb(34, 167, 132)"
           ],
           [
            0.7,
            "rgb(68, 190, 112)"
           ],
           [
            0.8,
            "rgb(121, 209, 81)"
           ],
           [
            0.9,
            "rgb(189, 222, 38)"
           ],
           [
            1,
            "rgb(253, 231, 36)"
           ]
          ],
          "line": {
           "color": "rgb(200,200,200)",
           "width": 1
          },
          "opacity": 1,
          "showscale": true,
          "size": [
           21,
           3,
           21,
           3,
           21,
           6,
           21,
           6,
           21,
           6,
           21,
           6,
           21,
           6,
           12,
           21,
           21,
           21,
           21,
           21,
           21,
           21,
           21,
           21,
           21,
           3,
           21,
           6,
           21,
           6,
           21,
           3,
           21,
           3,
           21,
           3,
           21,
           3,
           21,
           6
          ]
         },
         "mode": "markers",
         "text": [
          "cube0_cluster0",
          "cube0_cluster1",
          "cube1_cluster0",
          "cube1_cluster1",
          "cube2_cluster0",
          "cube2_cluster1",
          "cube3_cluster0",
          "cube3_cluster1",
          "cube4_cluster0",
          "cube4_cluster1",
          "cube5_cluster0",
          "cube5_cluster1",
          "cube6_cluster0",
          "cube6_cluster1",
          "cube7_cluster0",
          "cube7_cluster1",
          "cube8_cluster0",
          "cube8_cluster1",
          "cube9_cluster0",
          "cube9_cluster1",
          "cube10_cluster0",
          "cube10_cluster1",
          "cube11_cluster0",
          "cube11_cluster1",
          "cube12_cluster0",
          "cube12_cluster1",
          "cube13_cluster0",
          "cube13_cluster1",
          "cube14_cluster0",
          "cube14_cluster1",
          "cube15_cluster0",
          "cube15_cluster1",
          "cube16_cluster0",
          "cube16_cluster1",
          "cube17_cluster0",
          "cube17_cluster1",
          "cube18_cluster0",
          "cube18_cluster1",
          "cube19_cluster0",
          "cube19_cluster1"
         ],
         "type": "scatter",
         "uid": "7d91c7c4-19ee-4811-8e4b-252b6466776a",
         "x": [
          1.5508296710293925,
          1.475661099637671,
          1.2105336119985692,
          0.9361106926375588,
          0.8119465970432276,
          0.24376455692008953,
          0.4741673829935299,
          0.6643950779822676,
          0.24144464526047066,
          -0.2694739683882304,
          -0.11524791617520266,
          -0.6220535649183062,
          -0.25889396275008136,
          -0.4801801707153426,
          0.0024916486352452374,
          -0.413208270644576,
          -0.12620922537825796,
          -0.7594924580815203,
          -0.9879941480356794,
          -0.042627792095535924,
          -1.050143697869526,
          -0.138177319586627,
          -0.38938911438620133,
          -1.0231655735125411,
          -0.7294071408100197,
          -1.4259481318329152,
          -0.6069051301060155,
          -1.0608360074131473,
          -0.5218053242273816,
          -0.7866889001712168,
          -0.4229479136931184,
          5.794455073010005,
          -0.2721704861921527,
          -0.05532869281975968,
          -0.3255198105596298,
          0.11993339733904579,
          -0.5376005962605128,
          0.015213575118622232,
          -0.8606863424372133,
          -0.40281534887606935
         ],
         "y": [
          2.033825437418048,
          2.45394641689826,
          2.177591589743859,
          2.5455700957614282,
          2.2185023738471386,
          2.3384398603434104,
          2.016579016607244,
          2.6033556956195723,
          1.7088085235613923,
          1.8268679869315312,
          1.5167787723065178,
          1.2894768107470667,
          1.1451571381042547,
          1.7376970162733727,
          0.8505566421576376,
          0.7817420981039359,
          0.5046655780559016,
          0.6018901209013487,
          0.29837627459469784,
          0.1311754642156569,
          -0.07370246634563646,
          -0.23654284106686255,
          -0.5305494160284768,
          -0.45896683059093535,
          -0.7464330078116805,
          -0.49770468939170504,
          -1.1206927386225043,
          -0.9075736294928082,
          -1.4853392385941668,
          -1.9810832176700495,
          -1.8559026158039529,
          -1.2116310574059048,
          -2.2210534234171853,
          -1.7932932218614628,
          -2.600813807244969,
          -2.2660722480914424,
          -2.9164393462106593,
          -2.7999442657768525,
          -3.0913378108945975,
          -3.2690875788738696
         ]
        }
       ],
       "layout": {
        "annotations": [
         {
          "align": "left",
          "font": {
           "size": 12
          },
          "showarrow": false,
          "text": "<b>N_cubes:</b> 20 <b>Perc_overlap:</b> 0.4<br><b>Nodes:</b> 40 <b>Edges:</b> 40 <b>Total samples:</b> 16420 <b>Unique_samples:</b> 10000",
          "x": 0,
          "xanchor": "left",
          "xref": "paper",
          "y": -0.01,
          "yanchor": "top",
          "yref": "paper"
         }
        ],
        "autosize": false,
        "font": {
         "size": 12
        },
        "height": 500,
        "hovermode": "closest",
        "margin": {
         "b": 35,
         "l": 10,
         "r": 60,
         "t": 100
        },
        "plot_bgcolor": "rgba(240, 240, 240, 0.95)",
        "showlegend": false,
        "template": {
         "data": {
          "bar": [
           {
            "error_x": {
             "color": "#2a3f5f"
            },
            "error_y": {
             "color": "#2a3f5f"
            },
            "marker": {
             "line": {
              "color": "#E5ECF6",
              "width": 0.5
             },
             "pattern": {
              "fillmode": "overlay",
              "size": 10,
              "solidity": 0.2
             }
            },
            "type": "bar"
           }
          ],
          "barpolar": [
           {
            "marker": {
             "line": {
              "color": "#E5ECF6",
              "width": 0.5
             },
             "pattern": {
              "fillmode": "overlay",
              "size": 10,
              "solidity": 0.2
             }
            },
            "type": "barpolar"
           }
          ],
          "carpet": [
           {
            "aaxis": {
             "endlinecolor": "#2a3f5f",
             "gridcolor": "white",
             "linecolor": "white",
             "minorgridcolor": "white",
             "startlinecolor": "#2a3f5f"
            },
            "baxis": {
             "endlinecolor": "#2a3f5f",
             "gridcolor": "white",
             "linecolor": "white",
             "minorgridcolor": "white",
             "startlinecolor": "#2a3f5f"
            },
            "type": "carpet"
           }
          ],
          "choropleth": [
           {
            "colorbar": {
             "outlinewidth": 0,
             "ticks": ""
            },
            "type": "choropleth"
           }
          ],
          "contour": [
           {
            "colorbar": {
             "outlinewidth": 0,
             "ticks": ""
            },
            "colorscale": [
             [
              0,
              "#0d0887"
             ],
             [
              0.1111111111111111,
              "#46039f"
             ],
             [
              0.2222222222222222,
              "#7201a8"
             ],
             [
              0.3333333333333333,
              "#9c179e"
             ],
             [
              0.4444444444444444,
              "#bd3786"
             ],
             [
              0.5555555555555556,
              "#d8576b"
             ],
             [
              0.6666666666666666,
              "#ed7953"
             ],
             [
              0.7777777777777778,
              "#fb9f3a"
             ],
             [
              0.8888888888888888,
              "#fdca26"
             ],
             [
              1,
              "#f0f921"
             ]
            ],
            "type": "contour"
           }
          ],
          "contourcarpet": [
           {
            "colorbar": {
             "outlinewidth": 0,
             "ticks": ""
            },
            "type": "contourcarpet"
           }
          ],
          "heatmap": [
           {
            "colorbar": {
             "outlinewidth": 0,
             "ticks": ""
            },
            "colorscale": [
             [
              0,
              "#0d0887"
             ],
             [
              0.1111111111111111,
              "#46039f"
             ],
             [
              0.2222222222222222,
              "#7201a8"
             ],
             [
              0.3333333333333333,
              "#9c179e"
             ],
             [
              0.4444444444444444,
              "#bd3786"
             ],
             [
              0.5555555555555556,
              "#d8576b"
             ],
             [
              0.6666666666666666,
              "#ed7953"
             ],
             [
              0.7777777777777778,
              "#fb9f3a"
             ],
             [
              0.8888888888888888,
              "#fdca26"
             ],
             [
              1,
              "#f0f921"
             ]
            ],
            "type": "heatmap"
           }
          ],
          "heatmapgl": [
           {
            "colorbar": {
             "outlinewidth": 0,
             "ticks": ""
            },
            "colorscale": [
             [
              0,
              "#0d0887"
             ],
             [
              0.1111111111111111,
              "#46039f"
             ],
             [
              0.2222222222222222,
              "#7201a8"
             ],
             [
              0.3333333333333333,
              "#9c179e"
             ],
             [
              0.4444444444444444,
              "#bd3786"
             ],
             [
              0.5555555555555556,
              "#d8576b"
             ],
             [
              0.6666666666666666,
              "#ed7953"
             ],
             [
              0.7777777777777778,
              "#fb9f3a"
             ],
             [
              0.8888888888888888,
              "#fdca26"
             ],
             [
              1,
              "#f0f921"
             ]
            ],
            "type": "heatmapgl"
           }
          ],
          "histogram": [
           {
            "marker": {
             "pattern": {
              "fillmode": "overlay",
              "size": 10,
              "solidity": 0.2
             }
            },
            "type": "histogram"
           }
          ],
          "histogram2d": [
           {
            "colorbar": {
             "outlinewidth": 0,
             "ticks": ""
            },
            "colorscale": [
             [
              0,
              "#0d0887"
             ],
             [
              0.1111111111111111,
              "#46039f"
             ],
             [
              0.2222222222222222,
              "#7201a8"
             ],
             [
              0.3333333333333333,
              "#9c179e"
             ],
             [
              0.4444444444444444,
              "#bd3786"
             ],
             [
              0.5555555555555556,
              "#d8576b"
             ],
             [
              0.6666666666666666,
              "#ed7953"
             ],
             [
              0.7777777777777778,
              "#fb9f3a"
             ],
             [
              0.8888888888888888,
              "#fdca26"
             ],
             [
              1,
              "#f0f921"
             ]
            ],
            "type": "histogram2d"
           }
          ],
          "histogram2dcontour": [
           {
            "colorbar": {
             "outlinewidth": 0,
             "ticks": ""
            },
            "colorscale": [
             [
              0,
              "#0d0887"
             ],
             [
              0.1111111111111111,
              "#46039f"
             ],
             [
              0.2222222222222222,
              "#7201a8"
             ],
             [
              0.3333333333333333,
              "#9c179e"
             ],
             [
              0.4444444444444444,
              "#bd3786"
             ],
             [
              0.5555555555555556,
              "#d8576b"
             ],
             [
              0.6666666666666666,
              "#ed7953"
             ],
             [
              0.7777777777777778,
              "#fb9f3a"
             ],
             [
              0.8888888888888888,
              "#fdca26"
             ],
             [
              1,
              "#f0f921"
             ]
            ],
            "type": "histogram2dcontour"
           }
          ],
          "mesh3d": [
           {
            "colorbar": {
             "outlinewidth": 0,
             "ticks": ""
            },
            "type": "mesh3d"
           }
          ],
          "parcoords": [
           {
            "line": {
             "colorbar": {
              "outlinewidth": 0,
              "ticks": ""
             }
            },
            "type": "parcoords"
           }
          ],
          "pie": [
           {
            "automargin": true,
            "type": "pie"
           }
          ],
          "scatter": [
           {
            "fillpattern": {
             "fillmode": "overlay",
             "size": 10,
             "solidity": 0.2
            },
            "type": "scatter"
           }
          ],
          "scatter3d": [
           {
            "line": {
             "colorbar": {
              "outlinewidth": 0,
              "ticks": ""
             }
            },
            "marker": {
             "colorbar": {
              "outlinewidth": 0,
              "ticks": ""
             }
            },
            "type": "scatter3d"
           }
          ],
          "scattercarpet": [
           {
            "marker": {
             "colorbar": {
              "outlinewidth": 0,
              "ticks": ""
             }
            },
            "type": "scattercarpet"
           }
          ],
          "scattergeo": [
           {
            "marker": {
             "colorbar": {
              "outlinewidth": 0,
              "ticks": ""
             }
            },
            "type": "scattergeo"
           }
          ],
          "scattergl": [
           {
            "marker": {
             "colorbar": {
              "outlinewidth": 0,
              "ticks": ""
             }
            },
            "type": "scattergl"
           }
          ],
          "scattermapbox": [
           {
            "marker": {
             "colorbar": {
              "outlinewidth": 0,
              "ticks": ""
             }
            },
            "type": "scattermapbox"
           }
          ],
          "scatterpolar": [
           {
            "marker": {
             "colorbar": {
              "outlinewidth": 0,
              "ticks": ""
             }
            },
            "type": "scatterpolar"
           }
          ],
          "scatterpolargl": [
           {
            "marker": {
             "colorbar": {
              "outlinewidth": 0,
              "ticks": ""
             }
            },
            "type": "scatterpolargl"
           }
          ],
          "scatterternary": [
           {
            "marker": {
             "colorbar": {
              "outlinewidth": 0,
              "ticks": ""
             }
            },
            "type": "scatterternary"
           }
          ],
          "surface": [
           {
            "colorbar": {
             "outlinewidth": 0,
             "ticks": ""
            },
            "colorscale": [
             [
              0,
              "#0d0887"
             ],
             [
              0.1111111111111111,
              "#46039f"
             ],
             [
              0.2222222222222222,
              "#7201a8"
             ],
             [
              0.3333333333333333,
              "#9c179e"
             ],
             [
              0.4444444444444444,
              "#bd3786"
             ],
             [
              0.5555555555555556,
              "#d8576b"
             ],
             [
              0.6666666666666666,
              "#ed7953"
             ],
             [
              0.7777777777777778,
              "#fb9f3a"
             ],
             [
              0.8888888888888888,
              "#fdca26"
             ],
             [
              1,
              "#f0f921"
             ]
            ],
            "type": "surface"
           }
          ],
          "table": [
           {
            "cells": {
             "fill": {
              "color": "#EBF0F8"
             },
             "line": {
              "color": "white"
             }
            },
            "header": {
             "fill": {
              "color": "#C8D4E3"
             },
             "line": {
              "color": "white"
             }
            },
            "type": "table"
           }
          ]
         },
         "layout": {
          "annotationdefaults": {
           "arrowcolor": "#2a3f5f",
           "arrowhead": 0,
           "arrowwidth": 1
          },
          "autotypenumbers": "strict",
          "coloraxis": {
           "colorbar": {
            "outlinewidth": 0,
            "ticks": ""
           }
          },
          "colorscale": {
           "diverging": [
            [
             0,
             "#8e0152"
            ],
            [
             0.1,
             "#c51b7d"
            ],
            [
             0.2,
             "#de77ae"
            ],
            [
             0.3,
             "#f1b6da"
            ],
            [
             0.4,
             "#fde0ef"
            ],
            [
             0.5,
             "#f7f7f7"
            ],
            [
             0.6,
             "#e6f5d0"
            ],
            [
             0.7,
             "#b8e186"
            ],
            [
             0.8,
             "#7fbc41"
            ],
            [
             0.9,
             "#4d9221"
            ],
            [
             1,
             "#276419"
            ]
           ],
           "sequential": [
            [
             0,
             "#0d0887"
            ],
            [
             0.1111111111111111,
             "#46039f"
            ],
            [
             0.2222222222222222,
             "#7201a8"
            ],
            [
             0.3333333333333333,
             "#9c179e"
            ],
            [
             0.4444444444444444,
             "#bd3786"
            ],
            [
             0.5555555555555556,
             "#d8576b"
            ],
            [
             0.6666666666666666,
             "#ed7953"
            ],
            [
             0.7777777777777778,
             "#fb9f3a"
            ],
            [
             0.8888888888888888,
             "#fdca26"
            ],
            [
             1,
             "#f0f921"
            ]
           ],
           "sequentialminus": [
            [
             0,
             "#0d0887"
            ],
            [
             0.1111111111111111,
             "#46039f"
            ],
            [
             0.2222222222222222,
             "#7201a8"
            ],
            [
             0.3333333333333333,
             "#9c179e"
            ],
            [
             0.4444444444444444,
             "#bd3786"
            ],
            [
             0.5555555555555556,
             "#d8576b"
            ],
            [
             0.6666666666666666,
             "#ed7953"
            ],
            [
             0.7777777777777778,
             "#fb9f3a"
            ],
            [
             0.8888888888888888,
             "#fdca26"
            ],
            [
             1,
             "#f0f921"
            ]
           ]
          },
          "colorway": [
           "#636efa",
           "#EF553B",
           "#00cc96",
           "#ab63fa",
           "#FFA15A",
           "#19d3f3",
           "#FF6692",
           "#B6E880",
           "#FF97FF",
           "#FECB52"
          ],
          "font": {
           "color": "#2a3f5f"
          },
          "geo": {
           "bgcolor": "white",
           "lakecolor": "white",
           "landcolor": "#E5ECF6",
           "showlakes": true,
           "showland": true,
           "subunitcolor": "white"
          },
          "hoverlabel": {
           "align": "left"
          },
          "hovermode": "closest",
          "mapbox": {
           "style": "light"
          },
          "paper_bgcolor": "white",
          "plot_bgcolor": "#E5ECF6",
          "polar": {
           "angularaxis": {
            "gridcolor": "white",
            "linecolor": "white",
            "ticks": ""
           },
           "bgcolor": "#E5ECF6",
           "radialaxis": {
            "gridcolor": "white",
            "linecolor": "white",
            "ticks": ""
           }
          },
          "scene": {
           "xaxis": {
            "backgroundcolor": "#E5ECF6",
            "gridcolor": "white",
            "gridwidth": 2,
            "linecolor": "white",
            "showbackground": true,
            "ticks": "",
            "zerolinecolor": "white"
           },
           "yaxis": {
            "backgroundcolor": "#E5ECF6",
            "gridcolor": "white",
            "gridwidth": 2,
            "linecolor": "white",
            "showbackground": true,
            "ticks": "",
            "zerolinecolor": "white"
           },
           "zaxis": {
            "backgroundcolor": "#E5ECF6",
            "gridcolor": "white",
            "gridwidth": 2,
            "linecolor": "white",
            "showbackground": true,
            "ticks": "",
            "zerolinecolor": "white"
           }
          },
          "shapedefaults": {
           "line": {
            "color": "#2a3f5f"
           }
          },
          "ternary": {
           "aaxis": {
            "gridcolor": "white",
            "linecolor": "white",
            "ticks": ""
           },
           "baxis": {
            "gridcolor": "white",
            "linecolor": "white",
            "ticks": ""
           },
           "bgcolor": "#E5ECF6",
           "caxis": {
            "gridcolor": "white",
            "linecolor": "white",
            "ticks": ""
           }
          },
          "title": {
           "x": 0.05
          },
          "xaxis": {
           "automargin": true,
           "gridcolor": "white",
           "linecolor": "white",
           "ticks": "",
           "title": {
            "standoff": 15
           },
           "zerolinecolor": "white",
           "zerolinewidth": 2
          },
          "yaxis": {
           "automargin": true,
           "gridcolor": "white",
           "linecolor": "white",
           "ticks": "",
           "title": {
            "standoff": 15
           },
           "zerolinecolor": "white",
           "zerolinewidth": 2
          }
         }
        },
        "title": {
         "text": "Kepler Mapper"
        },
        "width": 600,
        "xaxis": {
         "visible": false
        },
        "yaxis": {
         "visible": false
        }
       }
      },
      "text/html": [
       "<div>                        <script type=\"text/javascript\">window.PlotlyConfig = {MathJaxConfig: 'local'};</script>\n",
       "        <script src=\"https://cdn.plot.ly/plotly-2.14.0.min.js\"></script>                <div id=\"a949589c-5419-4039-89a2-2d187dd3b4e9\" class=\"plotly-graph-div\" style=\"height:500px; width:600px;\"></div>            <script type=\"text/javascript\">                                    window.PLOTLYENV=window.PLOTLYENV || {};                                    if (document.getElementById(\"a949589c-5419-4039-89a2-2d187dd3b4e9\")) {                    Plotly.newPlot(                        \"a949589c-5419-4039-89a2-2d187dd3b4e9\",                        [{\"hoverinfo\":\"none\",\"line\":{\"color\":\"rgb(180,180,180)\",\"width\":1.5},\"mode\":\"lines\",\"x\":[1.5508296710293925,1.2105336119985692,null,1.475661099637671,1.2105336119985692,null,1.2105336119985692,0.8119465970432276,null,0.9361106926375588,0.8119465970432276,null,0.8119465970432276,0.4741673829935299,null,0.8119465970432276,0.6643950779822676,null,0.24376455692008953,0.4741673829935299,null,0.4741673829935299,0.24144464526047066,null,0.24144464526047066,-0.11524791617520266,null,-0.2694739683882304,-0.11524791617520266,null,-0.11524791617520266,-0.25889396275008136,null,-0.11524791617520266,-0.4801801707153426,null,-0.6220535649183062,-0.25889396275008136,null,-0.25889396275008136,0.0024916486352452374,null,-0.25889396275008136,-0.413208270644576,null,0.0024916486352452374,-0.12620922537825796,null,-0.413208270644576,-0.12620922537825796,null,-0.413208270644576,-0.7594924580815203,null,-0.12620922537825796,-0.042627792095535924,null,-0.7594924580815203,-0.9879941480356794,null,-0.9879941480356794,-1.050143697869526,null,-0.042627792095535924,-0.138177319586627,null,-1.050143697869526,-1.0231655735125411,null,-0.138177319586627,-0.38938911438620133,null,-0.38938911438620133,-0.7294071408100197,null,-1.0231655735125411,-0.7294071408100197,null,-1.0231655735125411,-1.4259481318329152,null,-0.7294071408100197,-0.6069051301060155,null,-0.7294071408100197,-1.0608360074131473,null,-0.6069051301060155,-0.5218053242273816,null,-0.5218053242273816,-0.4229479136931184,null,-0.7866889001712168,-0.4229479136931184,null,-0.4229479136931184,-0.2721704861921527,null,-0.4229479136931184,-0.05532869281975968,null,-0.2721704861921527,-0.3255198105596298,null,-0.2721704861921527,0.11993339733904579,null,-0.3255198105596298,-0.5376005962605128,null,-0.3255198105596298,0.015213575118622232,null,-0.5376005962605128,-0.8606863424372133,null,-0.5376005962605128,-0.40281534887606935,null],\"y\":[2.033825437418048,2.177591589743859,null,2.45394641689826,2.177591589743859,null,2.177591589743859,2.2185023738471386,null,2.5455700957614282,2.2185023738471386,null,2.2185023738471386,2.016579016607244,null,2.2185023738471386,2.6033556956195723,null,2.3384398603434104,2.016579016607244,null,2.016579016607244,1.7088085235613923,null,1.7088085235613923,1.5167787723065178,null,1.8268679869315312,1.5167787723065178,null,1.5167787723065178,1.1451571381042547,null,1.5167787723065178,1.7376970162733727,null,1.2894768107470667,1.1451571381042547,null,1.1451571381042547,0.8505566421576376,null,1.1451571381042547,0.7817420981039359,null,0.8505566421576376,0.5046655780559016,null,0.7817420981039359,0.5046655780559016,null,0.7817420981039359,0.6018901209013487,null,0.5046655780559016,0.1311754642156569,null,0.6018901209013487,0.29837627459469784,null,0.29837627459469784,-0.07370246634563646,null,0.1311754642156569,-0.23654284106686255,null,-0.07370246634563646,-0.45896683059093535,null,-0.23654284106686255,-0.5305494160284768,null,-0.5305494160284768,-0.7464330078116805,null,-0.45896683059093535,-0.7464330078116805,null,-0.45896683059093535,-0.49770468939170504,null,-0.7464330078116805,-1.1206927386225043,null,-0.7464330078116805,-0.9075736294928082,null,-1.1206927386225043,-1.4853392385941668,null,-1.4853392385941668,-1.8559026158039529,null,-1.9810832176700495,-1.8559026158039529,null,-1.8559026158039529,-2.2210534234171853,null,-1.8559026158039529,-1.7932932218614628,null,-2.2210534234171853,-2.600813807244969,null,-2.2210534234171853,-2.2660722480914424,null,-2.600813807244969,-2.9164393462106593,null,-2.600813807244969,-2.7999442657768525,null,-2.9164393462106593,-3.0913378108945975,null,-2.9164393462106593,-3.2690875788738696,null],\"type\":\"scatter\",\"uid\":\"2c46430b-8228-49e2-84e2-1aa3b493208f\"},{\"hoverinfo\":\"text\",\"marker\":{\"color\":[0.4977693274945472,0.6407640764076408,0.49840281141866305,0.24522452245224524,0.49527822872921734,0.6543154315431543,0.49780860438985075,0.5958595859585959,0.49537363674255624,0.2961796179617962,0.5006015323451647,0.6837183718371838,0.5053077167013184,0.1782178217821782,0.5405125878441502,0.4964523631369697,0.49950731003836324,0.5003770594021927,0.5162178717871787,0.4997790451496342,0.5012868457472097,0.4968989652588447,0.5052671591594478,0.5021491732506583,0.5115199550115237,0.9766976697669767,0.49566683659058774,0.27142714271427143,0.49841557072373904,0.7027702770277028,0.489149716804441,0.6631663166316631,0.49097678585062804,0.6522652265226523,0.4966484508845422,0.9463946394639464,0.5015930886017895,0.0098009800980098,0.502754820936639,0.9075407540754076],\"colorbar\":{\"thickness\":20,\"tickfont\":{\"size\":10},\"ticklen\":4,\"x\":1.01},\"colorscale\":[[0.0,\"rgb(68, 1, 84)\"],[0.1,\"rgb(72, 35, 116)\"],[0.2,\"rgb(64, 67, 135)\"],[0.3,\"rgb(52, 94, 141)\"],[0.4,\"rgb(41, 120, 142)\"],[0.5,\"rgb(32, 144, 140)\"],[0.6,\"rgb(34, 167, 132)\"],[0.7,\"rgb(68, 190, 112)\"],[0.8,\"rgb(121, 209, 81)\"],[0.9,\"rgb(189, 222, 38)\"],[1.0,\"rgb(253, 231, 36)\"]],\"line\":{\"color\":\"rgb(200,200,200)\",\"width\":1.0},\"opacity\":1.0,\"showscale\":true,\"size\":[21,3,21,3,21,6,21,6,21,6,21,6,21,6,12,21,21,21,21,21,21,21,21,21,21,3,21,6,21,6,21,3,21,3,21,3,21,3,21,6]},\"mode\":\"markers\",\"text\":[\"cube0_cluster0\",\"cube0_cluster1\",\"cube1_cluster0\",\"cube1_cluster1\",\"cube2_cluster0\",\"cube2_cluster1\",\"cube3_cluster0\",\"cube3_cluster1\",\"cube4_cluster0\",\"cube4_cluster1\",\"cube5_cluster0\",\"cube5_cluster1\",\"cube6_cluster0\",\"cube6_cluster1\",\"cube7_cluster0\",\"cube7_cluster1\",\"cube8_cluster0\",\"cube8_cluster1\",\"cube9_cluster0\",\"cube9_cluster1\",\"cube10_cluster0\",\"cube10_cluster1\",\"cube11_cluster0\",\"cube11_cluster1\",\"cube12_cluster0\",\"cube12_cluster1\",\"cube13_cluster0\",\"cube13_cluster1\",\"cube14_cluster0\",\"cube14_cluster1\",\"cube15_cluster0\",\"cube15_cluster1\",\"cube16_cluster0\",\"cube16_cluster1\",\"cube17_cluster0\",\"cube17_cluster1\",\"cube18_cluster0\",\"cube18_cluster1\",\"cube19_cluster0\",\"cube19_cluster1\"],\"x\":[1.5508296710293925,1.475661099637671,1.2105336119985692,0.9361106926375588,0.8119465970432276,0.24376455692008953,0.4741673829935299,0.6643950779822676,0.24144464526047066,-0.2694739683882304,-0.11524791617520266,-0.6220535649183062,-0.25889396275008136,-0.4801801707153426,0.0024916486352452374,-0.413208270644576,-0.12620922537825796,-0.7594924580815203,-0.9879941480356794,-0.042627792095535924,-1.050143697869526,-0.138177319586627,-0.38938911438620133,-1.0231655735125411,-0.7294071408100197,-1.4259481318329152,-0.6069051301060155,-1.0608360074131473,-0.5218053242273816,-0.7866889001712168,-0.4229479136931184,5.794455073010005,-0.2721704861921527,-0.05532869281975968,-0.3255198105596298,0.11993339733904579,-0.5376005962605128,0.015213575118622232,-0.8606863424372133,-0.40281534887606935],\"y\":[2.033825437418048,2.45394641689826,2.177591589743859,2.5455700957614282,2.2185023738471386,2.3384398603434104,2.016579016607244,2.6033556956195723,1.7088085235613923,1.8268679869315312,1.5167787723065178,1.2894768107470667,1.1451571381042547,1.7376970162733727,0.8505566421576376,0.7817420981039359,0.5046655780559016,0.6018901209013487,0.29837627459469784,0.1311754642156569,-0.07370246634563646,-0.23654284106686255,-0.5305494160284768,-0.45896683059093535,-0.7464330078116805,-0.49770468939170504,-1.1206927386225043,-0.9075736294928082,-1.4853392385941668,-1.9810832176700495,-1.8559026158039529,-1.2116310574059048,-2.2210534234171853,-1.7932932218614628,-2.600813807244969,-2.2660722480914424,-2.9164393462106593,-2.7999442657768525,-3.0913378108945975,-3.2690875788738696],\"type\":\"scatter\",\"uid\":\"7d91c7c4-19ee-4811-8e4b-252b6466776a\"}],                        {\"annotations\":[{\"align\":\"left\",\"font\":{\"size\":12},\"showarrow\":false,\"text\":\"<b>N_cubes:</b> 20 <b>Perc_overlap:</b> 0.4<br><b>Nodes:</b> 40 <b>Edges:</b> 40 <b>Total samples:</b> 16420 <b>Unique_samples:</b> 10000\",\"x\":0,\"xanchor\":\"left\",\"xref\":\"paper\",\"y\":-0.01,\"yanchor\":\"top\",\"yref\":\"paper\"}],\"autosize\":false,\"font\":{\"size\":12},\"height\":500,\"hovermode\":\"closest\",\"margin\":{\"b\":35,\"l\":10,\"r\":60,\"t\":100},\"plot_bgcolor\":\"rgba(240, 240, 240, 0.95)\",\"showlegend\":false,\"title\":{\"text\":\"Kepler Mapper\"},\"width\":600,\"xaxis\":{\"visible\":false},\"yaxis\":{\"visible\":false},\"template\":{\"data\":{\"barpolar\":[{\"marker\":{\"line\":{\"color\":\"#E5ECF6\",\"width\":0.5},\"pattern\":{\"fillmode\":\"overlay\",\"size\":10,\"solidity\":0.2}},\"type\":\"barpolar\"}],\"bar\":[{\"error_x\":{\"color\":\"#2a3f5f\"},\"error_y\":{\"color\":\"#2a3f5f\"},\"marker\":{\"line\":{\"color\":\"#E5ECF6\",\"width\":0.5},\"pattern\":{\"fillmode\":\"overlay\",\"size\":10,\"solidity\":0.2}},\"type\":\"bar\"}],\"carpet\":[{\"aaxis\":{\"endlinecolor\":\"#2a3f5f\",\"gridcolor\":\"white\",\"linecolor\":\"white\",\"minorgridcolor\":\"white\",\"startlinecolor\":\"#2a3f5f\"},\"baxis\":{\"endlinecolor\":\"#2a3f5f\",\"gridcolor\":\"white\",\"linecolor\":\"white\",\"minorgridcolor\":\"white\",\"startlinecolor\":\"#2a3f5f\"},\"type\":\"carpet\"}],\"choropleth\":[{\"colorbar\":{\"outlinewidth\":0,\"ticks\":\"\"},\"type\":\"choropleth\"}],\"contourcarpet\":[{\"colorbar\":{\"outlinewidth\":0,\"ticks\":\"\"},\"type\":\"contourcarpet\"}],\"contour\":[{\"colorbar\":{\"outlinewidth\":0,\"ticks\":\"\"},\"colorscale\":[[0.0,\"#0d0887\"],[0.1111111111111111,\"#46039f\"],[0.2222222222222222,\"#7201a8\"],[0.3333333333333333,\"#9c179e\"],[0.4444444444444444,\"#bd3786\"],[0.5555555555555556,\"#d8576b\"],[0.6666666666666666,\"#ed7953\"],[0.7777777777777778,\"#fb9f3a\"],[0.8888888888888888,\"#fdca26\"],[1.0,\"#f0f921\"]],\"type\":\"contour\"}],\"heatmapgl\":[{\"colorbar\":{\"outlinewidth\":0,\"ticks\":\"\"},\"colorscale\":[[0.0,\"#0d0887\"],[0.1111111111111111,\"#46039f\"],[0.2222222222222222,\"#7201a8\"],[0.3333333333333333,\"#9c179e\"],[0.4444444444444444,\"#bd3786\"],[0.5555555555555556,\"#d8576b\"],[0.6666666666666666,\"#ed7953\"],[0.7777777777777778,\"#fb9f3a\"],[0.8888888888888888,\"#fdca26\"],[1.0,\"#f0f921\"]],\"type\":\"heatmapgl\"}],\"heatmap\":[{\"colorbar\":{\"outlinewidth\":0,\"ticks\":\"\"},\"colorscale\":[[0.0,\"#0d0887\"],[0.1111111111111111,\"#46039f\"],[0.2222222222222222,\"#7201a8\"],[0.3333333333333333,\"#9c179e\"],[0.4444444444444444,\"#bd3786\"],[0.5555555555555556,\"#d8576b\"],[0.6666666666666666,\"#ed7953\"],[0.7777777777777778,\"#fb9f3a\"],[0.8888888888888888,\"#fdca26\"],[1.0,\"#f0f921\"]],\"type\":\"heatmap\"}],\"histogram2dcontour\":[{\"colorbar\":{\"outlinewidth\":0,\"ticks\":\"\"},\"colorscale\":[[0.0,\"#0d0887\"],[0.1111111111111111,\"#46039f\"],[0.2222222222222222,\"#7201a8\"],[0.3333333333333333,\"#9c179e\"],[0.4444444444444444,\"#bd3786\"],[0.5555555555555556,\"#d8576b\"],[0.6666666666666666,\"#ed7953\"],[0.7777777777777778,\"#fb9f3a\"],[0.8888888888888888,\"#fdca26\"],[1.0,\"#f0f921\"]],\"type\":\"histogram2dcontour\"}],\"histogram2d\":[{\"colorbar\":{\"outlinewidth\":0,\"ticks\":\"\"},\"colorscale\":[[0.0,\"#0d0887\"],[0.1111111111111111,\"#46039f\"],[0.2222222222222222,\"#7201a8\"],[0.3333333333333333,\"#9c179e\"],[0.4444444444444444,\"#bd3786\"],[0.5555555555555556,\"#d8576b\"],[0.6666666666666666,\"#ed7953\"],[0.7777777777777778,\"#fb9f3a\"],[0.8888888888888888,\"#fdca26\"],[1.0,\"#f0f921\"]],\"type\":\"histogram2d\"}],\"histogram\":[{\"marker\":{\"pattern\":{\"fillmode\":\"overlay\",\"size\":10,\"solidity\":0.2}},\"type\":\"histogram\"}],\"mesh3d\":[{\"colorbar\":{\"outlinewidth\":0,\"ticks\":\"\"},\"type\":\"mesh3d\"}],\"parcoords\":[{\"line\":{\"colorbar\":{\"outlinewidth\":0,\"ticks\":\"\"}},\"type\":\"parcoords\"}],\"pie\":[{\"automargin\":true,\"type\":\"pie\"}],\"scatter3d\":[{\"line\":{\"colorbar\":{\"outlinewidth\":0,\"ticks\":\"\"}},\"marker\":{\"colorbar\":{\"outlinewidth\":0,\"ticks\":\"\"}},\"type\":\"scatter3d\"}],\"scattercarpet\":[{\"marker\":{\"colorbar\":{\"outlinewidth\":0,\"ticks\":\"\"}},\"type\":\"scattercarpet\"}],\"scattergeo\":[{\"marker\":{\"colorbar\":{\"outlinewidth\":0,\"ticks\":\"\"}},\"type\":\"scattergeo\"}],\"scattergl\":[{\"marker\":{\"colorbar\":{\"outlinewidth\":0,\"ticks\":\"\"}},\"type\":\"scattergl\"}],\"scattermapbox\":[{\"marker\":{\"colorbar\":{\"outlinewidth\":0,\"ticks\":\"\"}},\"type\":\"scattermapbox\"}],\"scatterpolargl\":[{\"marker\":{\"colorbar\":{\"outlinewidth\":0,\"ticks\":\"\"}},\"type\":\"scatterpolargl\"}],\"scatterpolar\":[{\"marker\":{\"colorbar\":{\"outlinewidth\":0,\"ticks\":\"\"}},\"type\":\"scatterpolar\"}],\"scatter\":[{\"fillpattern\":{\"fillmode\":\"overlay\",\"size\":10,\"solidity\":0.2},\"type\":\"scatter\"}],\"scatterternary\":[{\"marker\":{\"colorbar\":{\"outlinewidth\":0,\"ticks\":\"\"}},\"type\":\"scatterternary\"}],\"surface\":[{\"colorbar\":{\"outlinewidth\":0,\"ticks\":\"\"},\"colorscale\":[[0.0,\"#0d0887\"],[0.1111111111111111,\"#46039f\"],[0.2222222222222222,\"#7201a8\"],[0.3333333333333333,\"#9c179e\"],[0.4444444444444444,\"#bd3786\"],[0.5555555555555556,\"#d8576b\"],[0.6666666666666666,\"#ed7953\"],[0.7777777777777778,\"#fb9f3a\"],[0.8888888888888888,\"#fdca26\"],[1.0,\"#f0f921\"]],\"type\":\"surface\"}],\"table\":[{\"cells\":{\"fill\":{\"color\":\"#EBF0F8\"},\"line\":{\"color\":\"white\"}},\"header\":{\"fill\":{\"color\":\"#C8D4E3\"},\"line\":{\"color\":\"white\"}},\"type\":\"table\"}]},\"layout\":{\"annotationdefaults\":{\"arrowcolor\":\"#2a3f5f\",\"arrowhead\":0,\"arrowwidth\":1},\"autotypenumbers\":\"strict\",\"coloraxis\":{\"colorbar\":{\"outlinewidth\":0,\"ticks\":\"\"}},\"colorscale\":{\"diverging\":[[0,\"#8e0152\"],[0.1,\"#c51b7d\"],[0.2,\"#de77ae\"],[0.3,\"#f1b6da\"],[0.4,\"#fde0ef\"],[0.5,\"#f7f7f7\"],[0.6,\"#e6f5d0\"],[0.7,\"#b8e186\"],[0.8,\"#7fbc41\"],[0.9,\"#4d9221\"],[1,\"#276419\"]],\"sequential\":[[0.0,\"#0d0887\"],[0.1111111111111111,\"#46039f\"],[0.2222222222222222,\"#7201a8\"],[0.3333333333333333,\"#9c179e\"],[0.4444444444444444,\"#bd3786\"],[0.5555555555555556,\"#d8576b\"],[0.6666666666666666,\"#ed7953\"],[0.7777777777777778,\"#fb9f3a\"],[0.8888888888888888,\"#fdca26\"],[1.0,\"#f0f921\"]],\"sequentialminus\":[[0.0,\"#0d0887\"],[0.1111111111111111,\"#46039f\"],[0.2222222222222222,\"#7201a8\"],[0.3333333333333333,\"#9c179e\"],[0.4444444444444444,\"#bd3786\"],[0.5555555555555556,\"#d8576b\"],[0.6666666666666666,\"#ed7953\"],[0.7777777777777778,\"#fb9f3a\"],[0.8888888888888888,\"#fdca26\"],[1.0,\"#f0f921\"]]},\"colorway\":[\"#636efa\",\"#EF553B\",\"#00cc96\",\"#ab63fa\",\"#FFA15A\",\"#19d3f3\",\"#FF6692\",\"#B6E880\",\"#FF97FF\",\"#FECB52\"],\"font\":{\"color\":\"#2a3f5f\"},\"geo\":{\"bgcolor\":\"white\",\"lakecolor\":\"white\",\"landcolor\":\"#E5ECF6\",\"showlakes\":true,\"showland\":true,\"subunitcolor\":\"white\"},\"hoverlabel\":{\"align\":\"left\"},\"hovermode\":\"closest\",\"mapbox\":{\"style\":\"light\"},\"paper_bgcolor\":\"white\",\"plot_bgcolor\":\"#E5ECF6\",\"polar\":{\"angularaxis\":{\"gridcolor\":\"white\",\"linecolor\":\"white\",\"ticks\":\"\"},\"bgcolor\":\"#E5ECF6\",\"radialaxis\":{\"gridcolor\":\"white\",\"linecolor\":\"white\",\"ticks\":\"\"}},\"scene\":{\"xaxis\":{\"backgroundcolor\":\"#E5ECF6\",\"gridcolor\":\"white\",\"gridwidth\":2,\"linecolor\":\"white\",\"showbackground\":true,\"ticks\":\"\",\"zerolinecolor\":\"white\"},\"yaxis\":{\"backgroundcolor\":\"#E5ECF6\",\"gridcolor\":\"white\",\"gridwidth\":2,\"linecolor\":\"white\",\"showbackground\":true,\"ticks\":\"\",\"zerolinecolor\":\"white\"},\"zaxis\":{\"backgroundcolor\":\"#E5ECF6\",\"gridcolor\":\"white\",\"gridwidth\":2,\"linecolor\":\"white\",\"showbackground\":true,\"ticks\":\"\",\"zerolinecolor\":\"white\"}},\"shapedefaults\":{\"line\":{\"color\":\"#2a3f5f\"}},\"ternary\":{\"aaxis\":{\"gridcolor\":\"white\",\"linecolor\":\"white\",\"ticks\":\"\"},\"baxis\":{\"gridcolor\":\"white\",\"linecolor\":\"white\",\"ticks\":\"\"},\"bgcolor\":\"#E5ECF6\",\"caxis\":{\"gridcolor\":\"white\",\"linecolor\":\"white\",\"ticks\":\"\"}},\"title\":{\"x\":0.05},\"xaxis\":{\"automargin\":true,\"gridcolor\":\"white\",\"linecolor\":\"white\",\"ticks\":\"\",\"title\":{\"standoff\":15},\"zerolinecolor\":\"white\",\"zerolinewidth\":2},\"yaxis\":{\"automargin\":true,\"gridcolor\":\"white\",\"linecolor\":\"white\",\"ticks\":\"\",\"title\":{\"standoff\":15},\"zerolinecolor\":\"white\",\"zerolinewidth\":2}}}},                        {\"responsive\": true}                    )                };                            </script>        </div>"
      ],
      "text/plain": [
       "FigureWidget({\n",
       "    'data': [{'hoverinfo': 'none',\n",
       "              'line': {'color': 'rgb(180,180,180)', 'width': 1.5},\n",
       "              'mode': 'lines',\n",
       "              'type': 'scatter',\n",
       "              'uid': '2c46430b-8228-49e2-84e2-1aa3b493208f',\n",
       "              'x': [1.5508296710293925, 1.2105336119985692, None,\n",
       "                    1.475661099637671, 1.2105336119985692, None,\n",
       "                    1.2105336119985692, 0.8119465970432276, None,\n",
       "                    0.9361106926375588, 0.8119465970432276, None,\n",
       "                    0.8119465970432276, 0.4741673829935299, None,\n",
       "                    0.8119465970432276, 0.6643950779822676, None,\n",
       "                    0.24376455692008953, 0.4741673829935299, None,\n",
       "                    0.4741673829935299, 0.24144464526047066, None,\n",
       "                    0.24144464526047066, -0.11524791617520266, None,\n",
       "                    -0.2694739683882304, -0.11524791617520266, None,\n",
       "                    -0.11524791617520266, -0.25889396275008136, None,\n",
       "                    -0.11524791617520266, -0.4801801707153426, None,\n",
       "                    -0.6220535649183062, -0.25889396275008136, None,\n",
       "                    -0.25889396275008136, 0.0024916486352452374, None,\n",
       "                    -0.25889396275008136, -0.413208270644576, None,\n",
       "                    0.0024916486352452374, -0.12620922537825796, None,\n",
       "                    -0.413208270644576, -0.12620922537825796, None,\n",
       "                    -0.413208270644576, -0.7594924580815203, None,\n",
       "                    -0.12620922537825796, -0.042627792095535924, None,\n",
       "                    -0.7594924580815203, -0.9879941480356794, None,\n",
       "                    -0.9879941480356794, -1.050143697869526, None,\n",
       "                    -0.042627792095535924, -0.138177319586627, None,\n",
       "                    -1.050143697869526, -1.0231655735125411, None,\n",
       "                    -0.138177319586627, -0.38938911438620133, None,\n",
       "                    -0.38938911438620133, -0.7294071408100197, None,\n",
       "                    -1.0231655735125411, -0.7294071408100197, None,\n",
       "                    -1.0231655735125411, -1.4259481318329152, None,\n",
       "                    -0.7294071408100197, -0.6069051301060155, None,\n",
       "                    -0.7294071408100197, -1.0608360074131473, None,\n",
       "                    -0.6069051301060155, -0.5218053242273816, None,\n",
       "                    -0.5218053242273816, -0.4229479136931184, None,\n",
       "                    -0.7866889001712168, -0.4229479136931184, None,\n",
       "                    -0.4229479136931184, -0.2721704861921527, None,\n",
       "                    -0.4229479136931184, -0.05532869281975968, None,\n",
       "                    -0.2721704861921527, -0.3255198105596298, None,\n",
       "                    -0.2721704861921527, 0.11993339733904579, None,\n",
       "                    -0.3255198105596298, -0.5376005962605128, None,\n",
       "                    -0.3255198105596298, 0.015213575118622232, None,\n",
       "                    -0.5376005962605128, -0.8606863424372133, None,\n",
       "                    -0.5376005962605128, -0.40281534887606935, None],\n",
       "              'y': [2.033825437418048, 2.177591589743859, None, 2.45394641689826,\n",
       "                    2.177591589743859, None, 2.177591589743859, 2.2185023738471386,\n",
       "                    None, 2.5455700957614282, 2.2185023738471386, None,\n",
       "                    2.2185023738471386, 2.016579016607244, None,\n",
       "                    2.2185023738471386, 2.6033556956195723, None,\n",
       "                    2.3384398603434104, 2.016579016607244, None, 2.016579016607244,\n",
       "                    1.7088085235613923, None, 1.7088085235613923,\n",
       "                    1.5167787723065178, None, 1.8268679869315312,\n",
       "                    1.5167787723065178, None, 1.5167787723065178,\n",
       "                    1.1451571381042547, None, 1.5167787723065178,\n",
       "                    1.7376970162733727, None, 1.2894768107470667,\n",
       "                    1.1451571381042547, None, 1.1451571381042547,\n",
       "                    0.8505566421576376, None, 1.1451571381042547,\n",
       "                    0.7817420981039359, None, 0.8505566421576376,\n",
       "                    0.5046655780559016, None, 0.7817420981039359,\n",
       "                    0.5046655780559016, None, 0.7817420981039359,\n",
       "                    0.6018901209013487, None, 0.5046655780559016,\n",
       "                    0.1311754642156569, None, 0.6018901209013487,\n",
       "                    0.29837627459469784, None, 0.29837627459469784,\n",
       "                    -0.07370246634563646, None, 0.1311754642156569,\n",
       "                    -0.23654284106686255, None, -0.07370246634563646,\n",
       "                    -0.45896683059093535, None, -0.23654284106686255,\n",
       "                    -0.5305494160284768, None, -0.5305494160284768,\n",
       "                    -0.7464330078116805, None, -0.45896683059093535,\n",
       "                    -0.7464330078116805, None, -0.45896683059093535,\n",
       "                    -0.49770468939170504, None, -0.7464330078116805,\n",
       "                    -1.1206927386225043, None, -0.7464330078116805,\n",
       "                    -0.9075736294928082, None, -1.1206927386225043,\n",
       "                    -1.4853392385941668, None, -1.4853392385941668,\n",
       "                    -1.8559026158039529, None, -1.9810832176700495,\n",
       "                    -1.8559026158039529, None, -1.8559026158039529,\n",
       "                    -2.2210534234171853, None, -1.8559026158039529,\n",
       "                    -1.7932932218614628, None, -2.2210534234171853,\n",
       "                    -2.600813807244969, None, -2.2210534234171853,\n",
       "                    -2.2660722480914424, None, -2.600813807244969,\n",
       "                    -2.9164393462106593, None, -2.600813807244969,\n",
       "                    -2.7999442657768525, None, -2.9164393462106593,\n",
       "                    -3.0913378108945975, None, -2.9164393462106593,\n",
       "                    -3.2690875788738696, None]},\n",
       "             {'hoverinfo': 'text',\n",
       "              'marker': {'color': [0.4977693274945472, 0.6407640764076408,\n",
       "                                   0.49840281141866305, 0.24522452245224524,\n",
       "                                   0.49527822872921734, 0.6543154315431543,\n",
       "                                   0.49780860438985075, 0.5958595859585959,\n",
       "                                   0.49537363674255624, 0.2961796179617962,\n",
       "                                   0.5006015323451647, 0.6837183718371838,\n",
       "                                   0.5053077167013184, 0.1782178217821782,\n",
       "                                   0.5405125878441502, 0.4964523631369697,\n",
       "                                   0.49950731003836324, 0.5003770594021927,\n",
       "                                   0.5162178717871787, 0.4997790451496342,\n",
       "                                   0.5012868457472097, 0.4968989652588447,\n",
       "                                   0.5052671591594478, 0.5021491732506583,\n",
       "                                   0.5115199550115237, 0.9766976697669767,\n",
       "                                   0.49566683659058774, 0.27142714271427143,\n",
       "                                   0.49841557072373904, 0.7027702770277028,\n",
       "                                   0.489149716804441, 0.6631663166316631,\n",
       "                                   0.49097678585062804, 0.6522652265226523,\n",
       "                                   0.4966484508845422, 0.9463946394639464,\n",
       "                                   0.5015930886017895, 0.0098009800980098,\n",
       "                                   0.502754820936639, 0.9075407540754076],\n",
       "                         'colorbar': {'thickness': 20, 'tickfont': {'size': 10}, 'ticklen': 4, 'x': 1.01},\n",
       "                         'colorscale': [[0.0, 'rgb(68, 1, 84)'], [0.1, 'rgb(72,\n",
       "                                        35, 116)'], [0.2, 'rgb(64, 67, 135)'],\n",
       "                                        [0.3, 'rgb(52, 94, 141)'], [0.4, 'rgb(41,\n",
       "                                        120, 142)'], [0.5, 'rgb(32, 144, 140)'],\n",
       "                                        [0.6, 'rgb(34, 167, 132)'], [0.7, 'rgb(68,\n",
       "                                        190, 112)'], [0.8, 'rgb(121, 209, 81)'],\n",
       "                                        [0.9, 'rgb(189, 222, 38)'], [1.0, 'rgb(253,\n",
       "                                        231, 36)']],\n",
       "                         'line': {'color': 'rgb(200,200,200)', 'width': 1.0},\n",
       "                         'opacity': 1.0,\n",
       "                         'showscale': True,\n",
       "                         'size': [21, 3, 21, 3, 21, 6, 21, 6, 21, 6, 21, 6, 21, 6,\n",
       "                                  12, 21, 21, 21, 21, 21, 21, 21, 21, 21, 21, 3,\n",
       "                                  21, 6, 21, 6, 21, 3, 21, 3, 21, 3, 21, 3, 21, 6]},\n",
       "              'mode': 'markers',\n",
       "              'text': [cube0_cluster0, cube0_cluster1, cube1_cluster0,\n",
       "                       cube1_cluster1, cube2_cluster0, cube2_cluster1,\n",
       "                       cube3_cluster0, cube3_cluster1, cube4_cluster0,\n",
       "                       cube4_cluster1, cube5_cluster0, cube5_cluster1,\n",
       "                       cube6_cluster0, cube6_cluster1, cube7_cluster0,\n",
       "                       cube7_cluster1, cube8_cluster0, cube8_cluster1,\n",
       "                       cube9_cluster0, cube9_cluster1, cube10_cluster0,\n",
       "                       cube10_cluster1, cube11_cluster0, cube11_cluster1,\n",
       "                       cube12_cluster0, cube12_cluster1, cube13_cluster0,\n",
       "                       cube13_cluster1, cube14_cluster0, cube14_cluster1,\n",
       "                       cube15_cluster0, cube15_cluster1, cube16_cluster0,\n",
       "                       cube16_cluster1, cube17_cluster0, cube17_cluster1,\n",
       "                       cube18_cluster0, cube18_cluster1, cube19_cluster0,\n",
       "                       cube19_cluster1],\n",
       "              'type': 'scatter',\n",
       "              'uid': '7d91c7c4-19ee-4811-8e4b-252b6466776a',\n",
       "              'x': [1.5508296710293925, 1.475661099637671, 1.2105336119985692,\n",
       "                    0.9361106926375588, 0.8119465970432276, 0.24376455692008953,\n",
       "                    0.4741673829935299, 0.6643950779822676, 0.24144464526047066,\n",
       "                    -0.2694739683882304, -0.11524791617520266, -0.6220535649183062,\n",
       "                    -0.25889396275008136, -0.4801801707153426,\n",
       "                    0.0024916486352452374, -0.413208270644576,\n",
       "                    -0.12620922537825796, -0.7594924580815203, -0.9879941480356794,\n",
       "                    -0.042627792095535924, -1.050143697869526, -0.138177319586627,\n",
       "                    -0.38938911438620133, -1.0231655735125411, -0.7294071408100197,\n",
       "                    -1.4259481318329152, -0.6069051301060155, -1.0608360074131473,\n",
       "                    -0.5218053242273816, -0.7866889001712168, -0.4229479136931184,\n",
       "                    5.794455073010005, -0.2721704861921527, -0.05532869281975968,\n",
       "                    -0.3255198105596298, 0.11993339733904579, -0.5376005962605128,\n",
       "                    0.015213575118622232, -0.8606863424372133,\n",
       "                    -0.40281534887606935],\n",
       "              'y': [2.033825437418048, 2.45394641689826, 2.177591589743859,\n",
       "                    2.5455700957614282, 2.2185023738471386, 2.3384398603434104,\n",
       "                    2.016579016607244, 2.6033556956195723, 1.7088085235613923,\n",
       "                    1.8268679869315312, 1.5167787723065178, 1.2894768107470667,\n",
       "                    1.1451571381042547, 1.7376970162733727, 0.8505566421576376,\n",
       "                    0.7817420981039359, 0.5046655780559016, 0.6018901209013487,\n",
       "                    0.29837627459469784, 0.1311754642156569, -0.07370246634563646,\n",
       "                    -0.23654284106686255, -0.5305494160284768,\n",
       "                    -0.45896683059093535, -0.7464330078116805,\n",
       "                    -0.49770468939170504, -1.1206927386225043, -0.9075736294928082,\n",
       "                    -1.4853392385941668, -1.9810832176700495, -1.8559026158039529,\n",
       "                    -1.2116310574059048, -2.2210534234171853, -1.7932932218614628,\n",
       "                    -2.600813807244969, -2.2660722480914424, -2.9164393462106593,\n",
       "                    -2.7999442657768525, -3.0913378108945975, -3.2690875788738696]}],\n",
       "    'layout': {'annotations': [{'align': 'left',\n",
       "                                'font': {'size': 12},\n",
       "                                'showarrow': False,\n",
       "                                'text': ('<b>N_cubes:</b> 20 <b>Perc_ove' ... '0 <b>Unique_samples:</b> 10000'),\n",
       "                                'x': 0,\n",
       "                                'xanchor': 'left',\n",
       "                                'xref': 'paper',\n",
       "                                'y': -0.01,\n",
       "                                'yanchor': 'top',\n",
       "                                'yref': 'paper'}],\n",
       "               'autosize': False,\n",
       "               'font': {'size': 12},\n",
       "               'height': 500,\n",
       "               'hovermode': 'closest',\n",
       "               'margin': {'b': 35, 'l': 10, 'r': 60, 't': 100},\n",
       "               'plot_bgcolor': 'rgba(240, 240, 240, 0.95)',\n",
       "               'showlegend': False,\n",
       "               'template': '...',\n",
       "               'title': {'text': 'Kepler Mapper'},\n",
       "               'width': 600,\n",
       "               'xaxis': {'visible': False},\n",
       "               'yaxis': {'visible': False}}\n",
       "})"
      ]
     },
     "execution_count": 40,
     "metadata": {},
     "output_type": "execute_result"
    }
   ],
   "source": [
    "from sklearn.decomposition import TruncatedSVD\n",
    "from sklearn.decomposition import PCA\n",
    "from sklearn import cluster\n",
    "import umap.umap_ as umap\n",
    "\n",
    "\n",
    "mapper = km.KeplerMapper(verbose=0)\n",
    "\n",
    "lens = mapper.fit_transform(X,\n",
    "    projection=[\n",
    "        # umap.UMAP(n_components=1, random_state=1),\n",
    "        TruncatedSVD(n_components=1,\n",
    "                     random_state=123),\n",
    "        # PCA(n_components=1)\n",
    "        ]\n",
    "            )\n",
    "\n",
    "# Define the simplicial complex\n",
    "graph = mapper.map(\n",
    "    lens,\n",
    "    X,\n",
    "    cover=km.Cover(n_cubes=20, perc_overlap=0.4),\n",
    "    clusterer=sklearn.cluster.AgglomerativeClustering(n_clusters=2, linkage='single'),\n",
    "    # clusterer=sklearn.cluster.DBSCAN(eps=0.1, min_samples=20),\n",
    "    # clusterer=sklearn.cluster.KMeans(n_clusters=2, random_state=123)\n",
    "    )\n",
    "\n",
    "# Visualization\n",
    "mapper.visualize(graph, path_html=\"output/fpu.html\");\n",
    "plotlyviz(graph, graph_data=False)"
   ]
  },
  {
   "cell_type": "code",
   "execution_count": null,
   "id": "86bb529c",
   "metadata": {},
   "outputs": [],
   "source": []
  },
  {
   "cell_type": "code",
   "execution_count": null,
   "id": "64670140",
   "metadata": {},
   "outputs": [],
   "source": []
  }
 ],
 "metadata": {
  "kernelspec": {
   "display_name": "fpuvenv",
   "language": "python",
   "name": "python3"
  },
  "language_info": {
   "codemirror_mode": {
    "name": "ipython",
    "version": 3
   },
   "file_extension": ".py",
   "mimetype": "text/x-python",
   "name": "python",
   "nbconvert_exporter": "python",
   "pygments_lexer": "ipython3",
   "version": "3.9.15 (main, Oct 11 2022, 21:39:54) \n[Clang 14.0.0 (clang-1400.0.29.102)]"
  },
  "vscode": {
   "interpreter": {
    "hash": "82b030bb993514921c0e6101fdf960482a557c8a877f19bd39fe0a80f5dcf631"
   }
  }
 },
 "nbformat": 4,
 "nbformat_minor": 5
}
